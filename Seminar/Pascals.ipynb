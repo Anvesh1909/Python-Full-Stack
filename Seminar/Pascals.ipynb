{
 "cells": [
  {
   "cell_type": "code",
   "execution_count": 16,
   "metadata": {},
   "outputs": [
    {
     "name": "stdout",
     "output_type": "stream",
     "text": [
      "X X X X X X X X X X \n",
      "X X X X X X X X X X \n",
      "X X X X X X X X X X \n",
      "X X X X X X X X X X \n",
      "X X X X X X X X X X \n",
      "X X X X X X X X X X \n",
      "X X X X X X X X X X \n",
      "X X X X X X X X X X \n",
      "X X X X X X X X X X \n",
      "X X X X X X X X X X \n"
     ]
    }
   ],
   "source": [
    "n = int(input(\"Enter a number\"))\n",
    "\n",
    "for i in range(1,n+1):\n",
    "\n",
    "    for j in range(1,n+1):\n",
    "        print(\"X\",end=\" \")\n",
    "    print()"
   ]
  },
  {
   "cell_type": "code",
   "execution_count": 14,
   "metadata": {},
   "outputs": [
    {
     "name": "stdout",
     "output_type": "stream",
     "text": [
      "X X X X X X X X X X \n",
      "X                 X \n",
      "X                 X \n",
      "X                 X \n",
      "X                 X \n",
      "X                 X \n",
      "X                 X \n",
      "X                 X \n",
      "X                 X \n",
      "X X X X X X X X X X \n"
     ]
    }
   ],
   "source": [
    "n = int(input(\"Enter a number\"))\n",
    "\n",
    "for i in range(1,n+1):\n",
    "\n",
    "    for j in range(1,n+1):\n",
    "        if i==1 or i==n or j==1 or j==n:\n",
    "            print(\"X\",end=\" \")\n",
    "        else:\n",
    "            print(\" \",end=\" \")\n",
    "    print()"
   ]
  },
  {
   "cell_type": "code",
   "execution_count": 20,
   "metadata": {},
   "outputs": [
    {
     "name": "stdout",
     "output_type": "stream",
     "text": [
      "X                 X \n",
      "  X             X   \n",
      "    X         X     \n",
      "      X     X       \n",
      "        X X         \n",
      "        X X         \n",
      "      X     X       \n",
      "    X         X     \n",
      "  X             X   \n",
      "X                 X \n"
     ]
    }
   ],
   "source": [
    "n = int(input(\"Enter a number\"))\n",
    "\n",
    "for i in range(1,n+1):\n",
    "\n",
    "    for j in range(1,n+1):\n",
    "        if i==j or i+j==n+1:\n",
    "            print(\"X\",end=\" \")\n",
    "        else:\n",
    "            print(\" \",end=\" \")\n",
    "    print()"
   ]
  },
  {
   "cell_type": "code",
   "execution_count": null,
   "metadata": {},
   "outputs": [
    {
     "name": "stdout",
     "output_type": "stream",
     "text": [
      "1\n",
      "11\n",
      "1 1\n",
      "1  1\n",
      "1   1\n",
      "1    1\n",
      "1     1\n",
      "1      1\n",
      "1       1\n",
      "1        1\n"
     ]
    }
   ],
   "source": [
    "\n",
    "n = int(input(\"Enter a number\"))\n",
    "\n",
    "for i in range(1,n+1):\n",
    "\n",
    "    for j in range(1,i+1):\n",
    "        if j==1 or j==i:\n",
    "            print(1,end=\"\")\n",
    "        else:\n",
    "            print(\" \",end=\"\")\n",
    "    print()"
   ]
  },
  {
   "cell_type": "code",
   "execution_count": 7,
   "metadata": {},
   "outputs": [
    {
     "name": "stdout",
     "output_type": "stream",
     "text": [
      "1 \n",
      "1 1 \n",
      "1 2 1 \n",
      "1 3 3 1 \n",
      "1 4 6 4 1 \n"
     ]
    }
   ],
   "source": [
    "L = []\n",
    "n = int(input(\"Enter a number : \"))\n",
    "\n",
    "for i in range(1,n+1):\n",
    "    if L == []:\n",
    "        a = []\n",
    "    else:\n",
    "        a = L[-1]\n",
    "    z = []\n",
    "    for j in range(1,i+1):\n",
    "        if j==1 or j==i:\n",
    "            print(1,end=\" \")\n",
    "            z.append(1)\n",
    "        else:\n",
    "            s = a[j-1] + a[j-2]\n",
    "            print(s,end=\" \")\n",
    "            z.append(s)\n",
    "    L.append(z)\n",
    "    print()"
   ]
  },
  {
   "cell_type": "code",
   "execution_count": 8,
   "metadata": {},
   "outputs": [
    {
     "name": "stdout",
     "output_type": "stream",
     "text": [
      "1 \n",
      "1 1 \n",
      "1 2 1 \n",
      "1 3 3 1 \n",
      "1 4 6 4 1 \n"
     ]
    }
   ],
   "source": [
    "L = [] \n",
    "n = int(input(\"Enter a number: \")) \n",
    "\n",
    "for i in range(1, n + 1): \n",
    "\n",
    "    if L == []: \n",
    "        a = [] \n",
    "    else: \n",
    "        a = L[-1] \n",
    "    z = [] \n",
    "\n",
    "    \n",
    "    for j in range(1, i + 1): \n",
    "        if j == 1 or j == i: \n",
    "            print(1, end=\" \") \n",
    "            z.append(1) \n",
    "        else: \n",
    "            s = a[j - 1] + a[j - 2] \n",
    "            print(s, end=\" \") \n",
    "            z.append(s) \n",
    "            \n",
    "    L.append(z) \n",
    "    print()"
   ]
  },
  {
   "cell_type": "code",
   "execution_count": 9,
   "metadata": {},
   "outputs": [
    {
     "name": "stdout",
     "output_type": "stream",
     "text": [
      "    1 \n",
      "   1 1 \n",
      "  1 2 1 \n",
      " 1 3 3 1 \n",
      "1 4 6 4 1 \n"
     ]
    }
   ],
   "source": [
    "L = [] \n",
    "n = int(input(\"Enter a number: \")) \n",
    "\n",
    "for i in range(1, n + 1): \n",
    "\n",
    "    if L == []: \n",
    "        a = [] \n",
    "    else: \n",
    "        a = L[-1] \n",
    "    z = [] \n",
    "\n",
    "    for j in range(n-i):\n",
    "        print(\" \",end=\"\")\n",
    "    \n",
    "    for j in range(1, i + 1): \n",
    "        if j == 1 or j == i: \n",
    "            print(1, end=\" \") \n",
    "            z.append(1) \n",
    "        else: \n",
    "            s = a[j - 1] + a[j - 2] \n",
    "            print(s, end=\" \") \n",
    "            z.append(s) \n",
    "            \n",
    "    L.append(z) \n",
    "    print()"
   ]
  },
  {
   "cell_type": "code",
   "execution_count": null,
   "metadata": {},
   "outputs": [],
   "source": []
  }
 ],
 "metadata": {
  "kernelspec": {
   "display_name": "Python 3",
   "language": "python",
   "name": "python3"
  },
  "language_info": {
   "codemirror_mode": {
    "name": "ipython",
    "version": 3
   },
   "file_extension": ".py",
   "mimetype": "text/x-python",
   "name": "python",
   "nbconvert_exporter": "python",
   "pygments_lexer": "ipython3",
   "version": "3.12.6"
  }
 },
 "nbformat": 4,
 "nbformat_minor": 2
}
