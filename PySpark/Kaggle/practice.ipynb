{
 "cells": [
  {
   "cell_type": "code",
   "execution_count": 1,
   "metadata": {},
   "outputs": [],
   "source": [
    "from pyspark.sql import  SparkSession"
   ]
  },
  {
   "cell_type": "code",
   "execution_count": 2,
   "metadata": {},
   "outputs": [],
   "source": [
    "spark = SparkSession.builder.appName('Practice').getOrCreate()"
   ]
  },
  {
   "cell_type": "code",
   "execution_count": 3,
   "metadata": {},
   "outputs": [
    {
     "data": {
      "text/html": [
       "\n",
       "            <div>\n",
       "                <p><b>SparkSession - in-memory</b></p>\n",
       "                \n",
       "        <div>\n",
       "            <p><b>SparkContext</b></p>\n",
       "\n",
       "            <p><a href=\"http://Anvesh:4040\">Spark UI</a></p>\n",
       "\n",
       "            <dl>\n",
       "              <dt>Version</dt>\n",
       "                <dd><code>v3.5.3</code></dd>\n",
       "              <dt>Master</dt>\n",
       "                <dd><code>local[*]</code></dd>\n",
       "              <dt>AppName</dt>\n",
       "                <dd><code>Practice</code></dd>\n",
       "            </dl>\n",
       "        </div>\n",
       "        \n",
       "            </div>\n",
       "        "
      ],
      "text/plain": [
       "<pyspark.sql.session.SparkSession at 0x1975ae17370>"
      ]
     },
     "execution_count": 3,
     "metadata": {},
     "output_type": "execute_result"
    }
   ],
   "source": [
    "spark"
   ]
  },
  {
   "cell_type": "code",
   "execution_count": 4,
   "metadata": {},
   "outputs": [],
   "source": [
    "df = spark.read.csv('housePrice.csv')"
   ]
  },
  {
   "cell_type": "code",
   "execution_count": 5,
   "metadata": {},
   "outputs": [
    {
     "data": {
      "text/plain": [
       "[Row(_c0='Area', _c1='Room', _c2='Parking', _c3='Warehouse', _c4='Elevator', _c5='Address', _c6='Price', _c7='Price(USD)'),\n",
       " Row(_c0='63', _c1='1', _c2='True', _c3='True', _c4='True', _c5='Shahran', _c6='1850000000.0', _c7='61666.67'),\n",
       " Row(_c0='60', _c1='1', _c2='True', _c3='True', _c4='True', _c5='Shahran', _c6='1850000000.0', _c7='61666.67'),\n",
       " Row(_c0='79', _c1='2', _c2='True', _c3='True', _c4='True', _c5='Pardis', _c6='550000000.0', _c7='18333.33'),\n",
       " Row(_c0='95', _c1='2', _c2='True', _c3='True', _c4='True', _c5='Shahrake Qods', _c6='902500000.0', _c7='30083.33')]"
      ]
     },
     "execution_count": 5,
     "metadata": {},
     "output_type": "execute_result"
    }
   ],
   "source": [
    "df.head(5)"
   ]
  },
  {
   "cell_type": "code",
   "execution_count": 6,
   "metadata": {},
   "outputs": [],
   "source": [
    "df = spark.read.csv('housePrice.csv',header=True, inferSchema=True)"
   ]
  },
  {
   "cell_type": "code",
   "execution_count": 7,
   "metadata": {},
   "outputs": [
    {
     "name": "stdout",
     "output_type": "stream",
     "text": [
      "\n",
      "+----+----+-------+---------+--------+--------------------+-------+----------+\n",
      "|Area|Room|Parking|Warehouse|Elevator|             Address|  Price|Price(USD)|\n",
      "+----+----+-------+---------+--------+--------------------+-------+----------+\n",
      "|  63|   1|   true|     true|    true|             Shahran| 1.85E9|  61666.67|\n",
      "|  60|   1|   true|     true|    true|             Shahran| 1.85E9|  61666.67|\n",
      "|  79|   2|   true|     true|    true|              Pardis|  5.5E8|  18333.33|\n",
      "|  95|   2|   true|     true|    true|       Shahrake Qods|9.025E8|  30083.33|\n",
      "| 123|   2|   true|     true|    true|      Shahrake Gharb|  7.0E9| 233333.33|\n",
      "|  70|   2|   true|     true|   false|North Program Org...| 2.05E9|  68333.33|\n",
      "|  87|   2|   true|     true|    true|              Pardis|  6.0E8|   20000.0|\n",
      "|  59|   1|   true|     true|    true|             Shahran| 2.15E9|  71666.67|\n",
      "|  54|   2|   true|     true|   false|            Andisheh| 4.93E8|  16433.33|\n",
      "|  71|   1|   true|     true|    true|West Ferdows Boul...| 2.37E9|   79000.0|\n",
      "|  68|   2|   true|     true|    true|West Ferdows Boul...| 2.45E9|  81666.67|\n",
      "|  64|   1|   true|     true|    true|              Narmak|  2.1E9|   70000.0|\n",
      "|  54|   1|  false|     true|    true|              Narmak| 1.69E9|  56333.33|\n",
      "| 136|   3|   true|     true|    true|         Saadat Abad| 1.1E10| 366666.67|\n",
      "|  95|   2|   true|     true|    true|               Zafar|  5.0E9| 166666.67|\n",
      "|  63|   1|  false|     true|   false|          Islamshahr|  5.7E8|   19000.0|\n",
      "| 155|   3|   true|     true|    true|              Narmak|  6.7E9| 223333.33|\n",
      "|  64|   2|  false|     true|   false|             Pirouzi| 1.45E9|  48333.33|\n",
      "| 140|   3|   true|     true|    true|West Ferdows Boul...|  6.4E9| 213333.33|\n",
      "|  42|   1|  false|     true|   false|             Pirouzi| 1.39E9|  46333.33|\n",
      "+----+----+-------+---------+--------+--------------------+-------+----------+\n",
      "only showing top 20 rows\n",
      "\n"
     ]
    }
   ],
   "source": [
    "# df.head(5)\n",
    "print()\n",
    "df.show()"
   ]
  },
  {
   "cell_type": "code",
   "execution_count": 8,
   "metadata": {},
   "outputs": [
    {
     "data": {
      "text/plain": [
       "['Area',\n",
       " 'Room',\n",
       " 'Parking',\n",
       " 'Warehouse',\n",
       " 'Elevator',\n",
       " 'Address',\n",
       " 'Price',\n",
       " 'Price(USD)']"
      ]
     },
     "execution_count": 8,
     "metadata": {},
     "output_type": "execute_result"
    }
   ],
   "source": [
    "df.columns"
   ]
  },
  {
   "cell_type": "code",
   "execution_count": 9,
   "metadata": {},
   "outputs": [
    {
     "data": {
      "text/plain": [
       "8"
      ]
     },
     "execution_count": 9,
     "metadata": {},
     "output_type": "execute_result"
    }
   ],
   "source": [
    "len(df.columns)"
   ]
  },
  {
   "cell_type": "code",
   "execution_count": 10,
   "metadata": {},
   "outputs": [
    {
     "data": {
      "text/plain": [
       "[('Area', 'string'),\n",
       " ('Room', 'int'),\n",
       " ('Parking', 'boolean'),\n",
       " ('Warehouse', 'boolean'),\n",
       " ('Elevator', 'boolean'),\n",
       " ('Address', 'string'),\n",
       " ('Price', 'double'),\n",
       " ('Price(USD)', 'double')]"
      ]
     },
     "execution_count": 10,
     "metadata": {},
     "output_type": "execute_result"
    }
   ],
   "source": [
    "df.dtypes"
   ]
  },
  {
   "cell_type": "code",
   "execution_count": 11,
   "metadata": {},
   "outputs": [
    {
     "name": "stdout",
     "output_type": "stream",
     "text": [
      "root\n",
      " |-- Area: string (nullable = true)\n",
      " |-- Room: integer (nullable = true)\n",
      " |-- Parking: boolean (nullable = true)\n",
      " |-- Warehouse: boolean (nullable = true)\n",
      " |-- Elevator: boolean (nullable = true)\n",
      " |-- Address: string (nullable = true)\n",
      " |-- Price: double (nullable = true)\n",
      " |-- Price(USD): double (nullable = true)\n",
      "\n"
     ]
    }
   ],
   "source": [
    "df.printSchema()"
   ]
  },
  {
   "cell_type": "code",
   "execution_count": 12,
   "metadata": {},
   "outputs": [
    {
     "data": {
      "text/plain": [
       "DataFrame[summary: string, Area: string, Room: string, Address: string, Price: string, Price(USD): string]"
      ]
     },
     "execution_count": 12,
     "metadata": {},
     "output_type": "execute_result"
    }
   ],
   "source": [
    "df.describe()"
   ]
  },
  {
   "cell_type": "code",
   "execution_count": 13,
   "metadata": {},
   "outputs": [
    {
     "name": "stdout",
     "output_type": "stream",
     "text": [
      "+-------+------------------+------------------+---------+-------------------+------------------+\n",
      "|summary|              Area|              Room|  Address|              Price|        Price(USD)|\n",
      "+-------+------------------+------------------+---------+-------------------+------------------+\n",
      "|  count|              3479|              3479|     3456|               3479|              3479|\n",
      "|   mean|106.77454650158364|2.0799080195458464|     NULL|5.359022710575166E9|178634.09040528862|\n",
      "| stddev| 69.36556734128237|0.7582753293813769|     NULL|8.099934524333218E9| 269997.8174080844|\n",
      "|    min|            1,000 |                 0|   Abazar|          3600000.0|             120.0|\n",
      "|    max|                99|                 5|Zibadasht|            9.24E10|         3080000.0|\n",
      "+-------+------------------+------------------+---------+-------------------+------------------+\n",
      "\n"
     ]
    }
   ],
   "source": [
    "df.describe().show()"
   ]
  },
  {
   "cell_type": "code",
   "execution_count": 14,
   "metadata": {},
   "outputs": [
    {
     "data": {
      "text/plain": [
       "DataFrame[area: string]"
      ]
     },
     "execution_count": 14,
     "metadata": {},
     "output_type": "execute_result"
    }
   ],
   "source": [
    "df.select('area')"
   ]
  },
  {
   "cell_type": "code",
   "execution_count": 15,
   "metadata": {},
   "outputs": [
    {
     "name": "stdout",
     "output_type": "stream",
     "text": [
      "+----+\n",
      "|area|\n",
      "+----+\n",
      "|  63|\n",
      "|  60|\n",
      "|  79|\n",
      "|  95|\n",
      "| 123|\n",
      "|  70|\n",
      "|  87|\n",
      "|  59|\n",
      "|  54|\n",
      "|  71|\n",
      "|  68|\n",
      "|  64|\n",
      "|  54|\n",
      "| 136|\n",
      "|  95|\n",
      "|  63|\n",
      "| 155|\n",
      "|  64|\n",
      "| 140|\n",
      "|  42|\n",
      "+----+\n",
      "only showing top 20 rows\n",
      "\n"
     ]
    }
   ],
   "source": [
    "df.select('area').show()"
   ]
  },
  {
   "cell_type": "code",
   "execution_count": 16,
   "metadata": {},
   "outputs": [
    {
     "name": "stdout",
     "output_type": "stream",
     "text": [
      "+----+\n",
      "|area|\n",
      "+----+\n",
      "|  63|\n",
      "|  60|\n",
      "|  79|\n",
      "|  95|\n",
      "| 123|\n",
      "+----+\n",
      "only showing top 5 rows\n",
      "\n"
     ]
    }
   ],
   "source": [
    "df.select('area').show(5)"
   ]
  },
  {
   "cell_type": "code",
   "execution_count": 17,
   "metadata": {},
   "outputs": [
    {
     "data": {
      "text/plain": [
       "[Row(area='63'),\n",
       " Row(area='60'),\n",
       " Row(area='79'),\n",
       " Row(area='95'),\n",
       " Row(area='123')]"
      ]
     },
     "execution_count": 17,
     "metadata": {},
     "output_type": "execute_result"
    }
   ],
   "source": [
    "df.select('area').head(5)"
   ]
  },
  {
   "cell_type": "code",
   "execution_count": 18,
   "metadata": {},
   "outputs": [
    {
     "data": {
      "text/plain": [
       "[Row(area='80', parking=True),\n",
       " Row(area='58', parking=False),\n",
       " Row(area='55', parking=True),\n",
       " Row(area='60', parking=True),\n",
       " Row(area='133', parking=True),\n",
       " Row(area='94', parking=False),\n",
       " Row(area='68', parking=False),\n",
       " Row(area='61', parking=False),\n",
       " Row(area='75', parking=True),\n",
       " Row(area='81', parking=True),\n",
       " Row(area='74', parking=True),\n",
       " Row(area='97', parking=True),\n",
       " Row(area='94', parking=True),\n",
       " Row(area='113', parking=True),\n",
       " Row(area='63', parking=True),\n",
       " Row(area='86', parking=True),\n",
       " Row(area='83', parking=True),\n",
       " Row(area='75', parking=False),\n",
       " Row(area='105', parking=True),\n",
       " Row(area='82', parking=False)]"
      ]
     },
     "execution_count": 18,
     "metadata": {},
     "output_type": "execute_result"
    }
   ],
   "source": [
    "df.select(['area','parking']).tail(20)"
   ]
  },
  {
   "cell_type": "code",
   "execution_count": 19,
   "metadata": {},
   "outputs": [],
   "source": [
    "duplicateDF = df.withColumn('testCol',df['area']*2)"
   ]
  },
  {
   "cell_type": "code",
   "execution_count": 20,
   "metadata": {},
   "outputs": [
    {
     "name": "stdout",
     "output_type": "stream",
     "text": [
      "+----+----+-------+---------+--------+--------------------+-------+----------+-------+\n",
      "|Area|Room|Parking|Warehouse|Elevator|             Address|  Price|Price(USD)|testCol|\n",
      "+----+----+-------+---------+--------+--------------------+-------+----------+-------+\n",
      "|  63|   1|   true|     true|    true|             Shahran| 1.85E9|  61666.67|  126.0|\n",
      "|  60|   1|   true|     true|    true|             Shahran| 1.85E9|  61666.67|  120.0|\n",
      "|  79|   2|   true|     true|    true|              Pardis|  5.5E8|  18333.33|  158.0|\n",
      "|  95|   2|   true|     true|    true|       Shahrake Qods|9.025E8|  30083.33|  190.0|\n",
      "| 123|   2|   true|     true|    true|      Shahrake Gharb|  7.0E9| 233333.33|  246.0|\n",
      "|  70|   2|   true|     true|   false|North Program Org...| 2.05E9|  68333.33|  140.0|\n",
      "|  87|   2|   true|     true|    true|              Pardis|  6.0E8|   20000.0|  174.0|\n",
      "|  59|   1|   true|     true|    true|             Shahran| 2.15E9|  71666.67|  118.0|\n",
      "|  54|   2|   true|     true|   false|            Andisheh| 4.93E8|  16433.33|  108.0|\n",
      "|  71|   1|   true|     true|    true|West Ferdows Boul...| 2.37E9|   79000.0|  142.0|\n",
      "|  68|   2|   true|     true|    true|West Ferdows Boul...| 2.45E9|  81666.67|  136.0|\n",
      "|  64|   1|   true|     true|    true|              Narmak|  2.1E9|   70000.0|  128.0|\n",
      "|  54|   1|  false|     true|    true|              Narmak| 1.69E9|  56333.33|  108.0|\n",
      "| 136|   3|   true|     true|    true|         Saadat Abad| 1.1E10| 366666.67|  272.0|\n",
      "|  95|   2|   true|     true|    true|               Zafar|  5.0E9| 166666.67|  190.0|\n",
      "|  63|   1|  false|     true|   false|          Islamshahr|  5.7E8|   19000.0|  126.0|\n",
      "| 155|   3|   true|     true|    true|              Narmak|  6.7E9| 223333.33|  310.0|\n",
      "|  64|   2|  false|     true|   false|             Pirouzi| 1.45E9|  48333.33|  128.0|\n",
      "| 140|   3|   true|     true|    true|West Ferdows Boul...|  6.4E9| 213333.33|  280.0|\n",
      "|  42|   1|  false|     true|   false|             Pirouzi| 1.39E9|  46333.33|   84.0|\n",
      "+----+----+-------+---------+--------+--------------------+-------+----------+-------+\n",
      "only showing top 20 rows\n",
      "\n"
     ]
    }
   ],
   "source": [
    "duplicateDF.show()"
   ]
  },
  {
   "cell_type": "code",
   "execution_count": 21,
   "metadata": {},
   "outputs": [],
   "source": [
    "duplicateDF = duplicateDF.drop(\"testcol\")"
   ]
  },
  {
   "cell_type": "code",
   "execution_count": 22,
   "metadata": {},
   "outputs": [
    {
     "name": "stdout",
     "output_type": "stream",
     "text": [
      "+----+----+-------+---------+--------+--------------------+-------+----------+\n",
      "|Area|Room|Parking|Warehouse|Elevator|             Address|  Price|Price(USD)|\n",
      "+----+----+-------+---------+--------+--------------------+-------+----------+\n",
      "|  63|   1|   true|     true|    true|             Shahran| 1.85E9|  61666.67|\n",
      "|  60|   1|   true|     true|    true|             Shahran| 1.85E9|  61666.67|\n",
      "|  79|   2|   true|     true|    true|              Pardis|  5.5E8|  18333.33|\n",
      "|  95|   2|   true|     true|    true|       Shahrake Qods|9.025E8|  30083.33|\n",
      "| 123|   2|   true|     true|    true|      Shahrake Gharb|  7.0E9| 233333.33|\n",
      "|  70|   2|   true|     true|   false|North Program Org...| 2.05E9|  68333.33|\n",
      "|  87|   2|   true|     true|    true|              Pardis|  6.0E8|   20000.0|\n",
      "|  59|   1|   true|     true|    true|             Shahran| 2.15E9|  71666.67|\n",
      "|  54|   2|   true|     true|   false|            Andisheh| 4.93E8|  16433.33|\n",
      "|  71|   1|   true|     true|    true|West Ferdows Boul...| 2.37E9|   79000.0|\n",
      "|  68|   2|   true|     true|    true|West Ferdows Boul...| 2.45E9|  81666.67|\n",
      "|  64|   1|   true|     true|    true|              Narmak|  2.1E9|   70000.0|\n",
      "|  54|   1|  false|     true|    true|              Narmak| 1.69E9|  56333.33|\n",
      "| 136|   3|   true|     true|    true|         Saadat Abad| 1.1E10| 366666.67|\n",
      "|  95|   2|   true|     true|    true|               Zafar|  5.0E9| 166666.67|\n",
      "|  63|   1|  false|     true|   false|          Islamshahr|  5.7E8|   19000.0|\n",
      "| 155|   3|   true|     true|    true|              Narmak|  6.7E9| 223333.33|\n",
      "|  64|   2|  false|     true|   false|             Pirouzi| 1.45E9|  48333.33|\n",
      "| 140|   3|   true|     true|    true|West Ferdows Boul...|  6.4E9| 213333.33|\n",
      "|  42|   1|  false|     true|   false|             Pirouzi| 1.39E9|  46333.33|\n",
      "+----+----+-------+---------+--------+--------------------+-------+----------+\n",
      "only showing top 20 rows\n",
      "\n"
     ]
    }
   ],
   "source": [
    "duplicateDF.show()"
   ]
  },
  {
   "cell_type": "code",
   "execution_count": 23,
   "metadata": {},
   "outputs": [],
   "source": [
    "duplicateDF = duplicateDF.withColumn(\"parking\",duplicateDF['parking'].cast('Boolean'))"
   ]
  },
  {
   "cell_type": "code",
   "execution_count": 25,
   "metadata": {},
   "outputs": [
    {
     "name": "stdout",
     "output_type": "stream",
     "text": [
      "root\n",
      " |-- Area: string (nullable = true)\n",
      " |-- Room: integer (nullable = true)\n",
      " |-- parking: boolean (nullable = true)\n",
      " |-- Warehouse: boolean (nullable = true)\n",
      " |-- Elevator: boolean (nullable = true)\n",
      " |-- Address: string (nullable = true)\n",
      " |-- Price: double (nullable = true)\n",
      " |-- Price(USD): double (nullable = true)\n",
      "\n"
     ]
    }
   ],
   "source": [
    "duplicateDF.printSchema()"
   ]
  },
  {
   "cell_type": "code",
   "execution_count": 26,
   "metadata": {},
   "outputs": [
    {
     "name": "stdout",
     "output_type": "stream",
     "text": [
      "+----+----+-------+---------+--------+--------------------+-------+----------+\n",
      "|Area|Room|parking|Warehouse|Elevator|             Address|  Price|Price(USD)|\n",
      "+----+----+-------+---------+--------+--------------------+-------+----------+\n",
      "|  63|   1|   true|     true|    true|             Shahran| 1.85E9|  61666.67|\n",
      "|  60|   1|   true|     true|    true|             Shahran| 1.85E9|  61666.67|\n",
      "|  79|   2|   true|     true|    true|              Pardis|  5.5E8|  18333.33|\n",
      "|  95|   2|   true|     true|    true|       Shahrake Qods|9.025E8|  30083.33|\n",
      "| 123|   2|   true|     true|    true|      Shahrake Gharb|  7.0E9| 233333.33|\n",
      "|  70|   2|   true|     true|   false|North Program Org...| 2.05E9|  68333.33|\n",
      "|  87|   2|   true|     true|    true|              Pardis|  6.0E8|   20000.0|\n",
      "|  59|   1|   true|     true|    true|             Shahran| 2.15E9|  71666.67|\n",
      "|  54|   2|   true|     true|   false|            Andisheh| 4.93E8|  16433.33|\n",
      "|  71|   1|   true|     true|    true|West Ferdows Boul...| 2.37E9|   79000.0|\n",
      "|  68|   2|   true|     true|    true|West Ferdows Boul...| 2.45E9|  81666.67|\n",
      "|  64|   1|   true|     true|    true|              Narmak|  2.1E9|   70000.0|\n",
      "|  54|   1|  false|     true|    true|              Narmak| 1.69E9|  56333.33|\n",
      "| 136|   3|   true|     true|    true|         Saadat Abad| 1.1E10| 366666.67|\n",
      "|  95|   2|   true|     true|    true|               Zafar|  5.0E9| 166666.67|\n",
      "|  63|   1|  false|     true|   false|          Islamshahr|  5.7E8|   19000.0|\n",
      "| 155|   3|   true|     true|    true|              Narmak|  6.7E9| 223333.33|\n",
      "|  64|   2|  false|     true|   false|             Pirouzi| 1.45E9|  48333.33|\n",
      "| 140|   3|   true|     true|    true|West Ferdows Boul...|  6.4E9| 213333.33|\n",
      "|  42|   1|  false|     true|   false|             Pirouzi| 1.39E9|  46333.33|\n",
      "+----+----+-------+---------+--------+--------------------+-------+----------+\n",
      "only showing top 20 rows\n",
      "\n"
     ]
    }
   ],
   "source": [
    "duplicateDF.show()"
   ]
  },
  {
   "cell_type": "code",
   "execution_count": 32,
   "metadata": {},
   "outputs": [
    {
     "name": "stdout",
     "output_type": "stream",
     "text": [
      "+----+----+-------+---------+--------+--------------------+-------+----------+\n",
      "|Area|Room|parking|Warehouse|Elevator|             Address|  Price|Price(USD)|\n",
      "+----+----+-------+---------+--------+--------------------+-------+----------+\n",
      "|  63|   1|   true|     true|    true|             Shahran| 1.85E9|  61666.67|\n",
      "|  60|   1|   true|     true|    true|             Shahran| 1.85E9|  61666.67|\n",
      "|  79|   2|   true|     true|    true|              Pardis|  5.5E8|  18333.33|\n",
      "|  95|   2|   true|     true|    true|       Shahrake Qods|9.025E8|  30083.33|\n",
      "| 123|   2|   true|     true|    true|      Shahrake Gharb|  7.0E9| 233333.33|\n",
      "|  70|   2|   true|     true|   false|North Program Org...| 2.05E9|  68333.33|\n",
      "|  87|   2|   true|     true|    true|              Pardis|  6.0E8|   20000.0|\n",
      "|  59|   1|   true|     true|    true|             Shahran| 2.15E9|  71666.67|\n",
      "|  54|   2|   true|     true|   false|            Andisheh| 4.93E8|  16433.33|\n",
      "|  71|   1|   true|     true|    true|West Ferdows Boul...| 2.37E9|   79000.0|\n",
      "+----+----+-------+---------+--------+--------------------+-------+----------+\n",
      "only showing top 10 rows\n",
      "\n"
     ]
    }
   ],
   "source": [
    "duplicateDF.na.drop().show(10)"
   ]
  },
  {
   "cell_type": "code",
   "execution_count": 33,
   "metadata": {},
   "outputs": [
    {
     "data": {
      "text/plain": [
       "DataFrame[Area: string, Room: int, parking: boolean, Warehouse: boolean, Elevator: boolean, Address: string, Price: double, Price(USD): double]"
      ]
     },
     "execution_count": 33,
     "metadata": {},
     "output_type": "execute_result"
    }
   ],
   "source": [
    "duplicateDF.na.drop(subset=['area'])"
   ]
  },
  {
   "cell_type": "code",
   "execution_count": 34,
   "metadata": {},
   "outputs": [
    {
     "name": "stdout",
     "output_type": "stream",
     "text": [
      "+----+----+-------+---------+--------+--------------------+-------+----------+\n",
      "|Area|Room|parking|Warehouse|Elevator|             Address|  Price|Price(USD)|\n",
      "+----+----+-------+---------+--------+--------------------+-------+----------+\n",
      "|  63|   1|   true|     true|    true|             Shahran| 1.85E9|  61666.67|\n",
      "|  60|   1|   true|     true|    true|             Shahran| 1.85E9|  61666.67|\n",
      "|  79|   2|   true|     true|    true|              Pardis|  5.5E8|  18333.33|\n",
      "|  95|   2|   true|     true|    true|       Shahrake Qods|9.025E8|  30083.33|\n",
      "| 123|   2|   true|     true|    true|      Shahrake Gharb|  7.0E9| 233333.33|\n",
      "|  70|   2|   true|     true|   false|North Program Org...| 2.05E9|  68333.33|\n",
      "|  87|   2|   true|     true|    true|              Pardis|  6.0E8|   20000.0|\n",
      "|  59|   1|   true|     true|    true|             Shahran| 2.15E9|  71666.67|\n",
      "|  54|   2|   true|     true|   false|            Andisheh| 4.93E8|  16433.33|\n",
      "|  71|   1|   true|     true|    true|West Ferdows Boul...| 2.37E9|   79000.0|\n",
      "+----+----+-------+---------+--------+--------------------+-------+----------+\n",
      "only showing top 10 rows\n",
      "\n"
     ]
    }
   ],
   "source": [
    "duplicateDF.na.drop(how='any').show(10)"
   ]
  },
  {
   "cell_type": "code",
   "execution_count": 36,
   "metadata": {},
   "outputs": [
    {
     "name": "stdout",
     "output_type": "stream",
     "text": [
      "+----+----+-------+---------+--------+--------------------+-------+----------+\n",
      "|Area|Room|parking|Warehouse|Elevator|             Address|  Price|Price(USD)|\n",
      "+----+----+-------+---------+--------+--------------------+-------+----------+\n",
      "|  63|   1|   true|     true|    true|             Shahran| 1.85E9|  61666.67|\n",
      "|  60|   1|   true|     true|    true|             Shahran| 1.85E9|  61666.67|\n",
      "|  79|   2|   true|     true|    true|              Pardis|  5.5E8|  18333.33|\n",
      "|  95|   2|   true|     true|    true|       Shahrake Qods|9.025E8|  30083.33|\n",
      "| 123|   2|   true|     true|    true|      Shahrake Gharb|  7.0E9| 233333.33|\n",
      "|  70|   2|   true|     true|   false|North Program Org...| 2.05E9|  68333.33|\n",
      "|  87|   2|   true|     true|    true|              Pardis|  6.0E8|   20000.0|\n",
      "|  59|   1|   true|     true|    true|             Shahran| 2.15E9|  71666.67|\n",
      "|  54|   2|   true|     true|   false|            Andisheh| 4.93E8|  16433.33|\n",
      "|  71|   1|   true|     true|    true|West Ferdows Boul...| 2.37E9|   79000.0|\n",
      "+----+----+-------+---------+--------+--------------------+-------+----------+\n",
      "only showing top 10 rows\n",
      "\n"
     ]
    }
   ],
   "source": [
    "duplicateDF.na.drop(how='any',thresh=2).show(10)"
   ]
  },
  {
   "cell_type": "code",
   "execution_count": 37,
   "metadata": {},
   "outputs": [
    {
     "name": "stdout",
     "output_type": "stream",
     "text": [
      "+----+----+-------+---------+--------+--------------------+-------+----------+\n",
      "|Area|Room|parking|Warehouse|Elevator|             Address|  Price|Price(USD)|\n",
      "+----+----+-------+---------+--------+--------------------+-------+----------+\n",
      "|  63|   1|   true|     true|    true|             Shahran| 1.85E9|  61666.67|\n",
      "|  60|   1|   true|     true|    true|             Shahran| 1.85E9|  61666.67|\n",
      "|  79|   2|   true|     true|    true|              Pardis|  5.5E8|  18333.33|\n",
      "|  95|   2|   true|     true|    true|       Shahrake Qods|9.025E8|  30083.33|\n",
      "| 123|   2|   true|     true|    true|      Shahrake Gharb|  7.0E9| 233333.33|\n",
      "|  70|   2|   true|     true|   false|North Program Org...| 2.05E9|  68333.33|\n",
      "|  87|   2|   true|     true|    true|              Pardis|  6.0E8|   20000.0|\n",
      "|  59|   1|   true|     true|    true|             Shahran| 2.15E9|  71666.67|\n",
      "|  54|   2|   true|     true|   false|            Andisheh| 4.93E8|  16433.33|\n",
      "|  71|   1|   true|     true|    true|West Ferdows Boul...| 2.37E9|   79000.0|\n",
      "|  68|   2|   true|     true|    true|West Ferdows Boul...| 2.45E9|  81666.67|\n",
      "|  64|   1|   true|     true|    true|              Narmak|  2.1E9|   70000.0|\n",
      "|  54|   1|  false|     true|    true|              Narmak| 1.69E9|  56333.33|\n",
      "| 136|   3|   true|     true|    true|         Saadat Abad| 1.1E10| 366666.67|\n",
      "|  95|   2|   true|     true|    true|               Zafar|  5.0E9| 166666.67|\n",
      "|  63|   1|  false|     true|   false|          Islamshahr|  5.7E8|   19000.0|\n",
      "| 155|   3|   true|     true|    true|              Narmak|  6.7E9| 223333.33|\n",
      "|  64|   2|  false|     true|   false|             Pirouzi| 1.45E9|  48333.33|\n",
      "| 140|   3|   true|     true|    true|West Ferdows Boul...|  6.4E9| 213333.33|\n",
      "|  42|   1|  false|     true|   false|             Pirouzi| 1.39E9|  46333.33|\n",
      "+----+----+-------+---------+--------+--------------------+-------+----------+\n",
      "only showing top 20 rows\n",
      "\n"
     ]
    }
   ],
   "source": [
    "duplicateDF.na.fill('Missing').show()"
   ]
  },
  {
   "cell_type": "code",
   "execution_count": 38,
   "metadata": {},
   "outputs": [
    {
     "name": "stdout",
     "output_type": "stream",
     "text": [
      "+----+----+-------+---------+--------+--------------------+-------+----------+\n",
      "|Area|Room|parking|Warehouse|Elevator|             Address|  Price|Price(USD)|\n",
      "+----+----+-------+---------+--------+--------------------+-------+----------+\n",
      "|  63|   1|   true|     true|    true|             Shahran| 1.85E9|  61666.67|\n",
      "|  60|   1|   true|     true|    true|             Shahran| 1.85E9|  61666.67|\n",
      "|  79|   2|   true|     true|    true|              Pardis|  5.5E8|  18333.33|\n",
      "|  95|   2|   true|     true|    true|       Shahrake Qods|9.025E8|  30083.33|\n",
      "| 123|   2|   true|     true|    true|      Shahrake Gharb|  7.0E9| 233333.33|\n",
      "|  70|   2|   true|     true|   false|North Program Org...| 2.05E9|  68333.33|\n",
      "|  87|   2|   true|     true|    true|              Pardis|  6.0E8|   20000.0|\n",
      "|  59|   1|   true|     true|    true|             Shahran| 2.15E9|  71666.67|\n",
      "|  54|   2|   true|     true|   false|            Andisheh| 4.93E8|  16433.33|\n",
      "|  71|   1|   true|     true|    true|West Ferdows Boul...| 2.37E9|   79000.0|\n",
      "|  68|   2|   true|     true|    true|West Ferdows Boul...| 2.45E9|  81666.67|\n",
      "|  64|   1|   true|     true|    true|              Narmak|  2.1E9|   70000.0|\n",
      "|  54|   1|  false|     true|    true|              Narmak| 1.69E9|  56333.33|\n",
      "| 136|   3|   true|     true|    true|         Saadat Abad| 1.1E10| 366666.67|\n",
      "|  95|   2|   true|     true|    true|               Zafar|  5.0E9| 166666.67|\n",
      "|  63|   1|  false|     true|   false|          Islamshahr|  5.7E8|   19000.0|\n",
      "| 155|   3|   true|     true|    true|              Narmak|  6.7E9| 223333.33|\n",
      "|  64|   2|  false|     true|   false|             Pirouzi| 1.45E9|  48333.33|\n",
      "| 140|   3|   true|     true|    true|West Ferdows Boul...|  6.4E9| 213333.33|\n",
      "|  42|   1|  false|     true|   false|             Pirouzi| 1.39E9|  46333.33|\n",
      "+----+----+-------+---------+--------+--------------------+-------+----------+\n",
      "only showing top 20 rows\n",
      "\n"
     ]
    }
   ],
   "source": [
    "duplicateDF.na.fill('Missing','Area').show()"
   ]
  },
  {
   "cell_type": "code",
   "execution_count": 39,
   "metadata": {},
   "outputs": [
    {
     "name": "stdout",
     "output_type": "stream",
     "text": [
      "+----+----+-------+---------+--------+--------------------+-------+----------+\n",
      "|Area|Room|parking|Warehouse|Elevator|             Address|  Price|Price(USD)|\n",
      "+----+----+-------+---------+--------+--------------------+-------+----------+\n",
      "|  63|   1|   true|     true|    true|             Shahran| 1.85E9|  61666.67|\n",
      "|  60|   1|   true|     true|    true|             Shahran| 1.85E9|  61666.67|\n",
      "|  79|   2|   true|     true|    true|              Pardis|  5.5E8|  18333.33|\n",
      "|  95|   2|   true|     true|    true|       Shahrake Qods|9.025E8|  30083.33|\n",
      "| 123|   2|   true|     true|    true|      Shahrake Gharb|  7.0E9| 233333.33|\n",
      "|  70|   2|   true|     true|   false|North Program Org...| 2.05E9|  68333.33|\n",
      "|  87|   2|   true|     true|    true|              Pardis|  6.0E8|   20000.0|\n",
      "|  59|   1|   true|     true|    true|             Shahran| 2.15E9|  71666.67|\n",
      "|  54|   2|   true|     true|   false|            Andisheh| 4.93E8|  16433.33|\n",
      "|  71|   1|   true|     true|    true|West Ferdows Boul...| 2.37E9|   79000.0|\n",
      "|  68|   2|   true|     true|    true|West Ferdows Boul...| 2.45E9|  81666.67|\n",
      "|  64|   1|   true|     true|    true|              Narmak|  2.1E9|   70000.0|\n",
      "|  54|   1|  false|     true|    true|              Narmak| 1.69E9|  56333.33|\n",
      "| 136|   3|   true|     true|    true|         Saadat Abad| 1.1E10| 366666.67|\n",
      "|  95|   2|   true|     true|    true|               Zafar|  5.0E9| 166666.67|\n",
      "|  63|   1|  false|     true|   false|          Islamshahr|  5.7E8|   19000.0|\n",
      "| 155|   3|   true|     true|    true|              Narmak|  6.7E9| 223333.33|\n",
      "|  64|   2|  false|     true|   false|             Pirouzi| 1.45E9|  48333.33|\n",
      "| 140|   3|   true|     true|    true|West Ferdows Boul...|  6.4E9| 213333.33|\n",
      "|  42|   1|  false|     true|   false|             Pirouzi| 1.39E9|  46333.33|\n",
      "+----+----+-------+---------+--------+--------------------+-------+----------+\n",
      "only showing top 20 rows\n",
      "\n"
     ]
    }
   ],
   "source": [
    "duplicateDF.na.fill('Missing',['Area','parking']).show()"
   ]
  },
  {
   "cell_type": "code",
   "execution_count": 40,
   "metadata": {},
   "outputs": [],
   "source": [
    "from pyspark.sql.functions import *"
   ]
  },
  {
   "cell_type": "code",
   "execution_count": 41,
   "metadata": {},
   "outputs": [
    {
     "name": "stdout",
     "output_type": "stream",
     "text": [
      "+----------+\n",
      "|min(price)|\n",
      "+----------+\n",
      "| 3600000.0|\n",
      "+----------+\n",
      "\n"
     ]
    }
   ],
   "source": [
    "duplicateDF.select(min('price')).show()"
   ]
  },
  {
   "cell_type": "code",
   "execution_count": 42,
   "metadata": {},
   "outputs": [
    {
     "name": "stdout",
     "output_type": "stream",
     "text": [
      "+----------+\n",
      "|max(price)|\n",
      "+----------+\n",
      "|   9.24E10|\n",
      "+----------+\n",
      "\n"
     ]
    }
   ],
   "source": [
    "duplicateDF.select(max('price')).show()"
   ]
  },
  {
   "cell_type": "code",
   "execution_count": 43,
   "metadata": {},
   "outputs": [
    {
     "name": "stdout",
     "output_type": "stream",
     "text": [
      "+-------------------+\n",
      "|         avg(price)|\n",
      "+-------------------+\n",
      "|5.359022710575166E9|\n",
      "+-------------------+\n",
      "\n"
     ]
    }
   ],
   "source": [
    "duplicateDF.select(mean('price')).show()"
   ]
  },
  {
   "cell_type": "code",
   "execution_count": 44,
   "metadata": {},
   "outputs": [
    {
     "name": "stdout",
     "output_type": "stream",
     "text": [
      "+-------------------+\n",
      "|         std(price)|\n",
      "+-------------------+\n",
      "|8.099934524333218E9|\n",
      "+-------------------+\n",
      "\n"
     ]
    }
   ],
   "source": [
    "duplicateDF.select(std('price')).show()"
   ]
  },
  {
   "cell_type": "code",
   "execution_count": 47,
   "metadata": {},
   "outputs": [
    {
     "name": "stdout",
     "output_type": "stream",
     "text": [
      "+----+----+-------+---------+-----+--------------------+-------+----------+\n",
      "|Area|Room|parking|Warehouse| lift|             Address|  Price|Price(USD)|\n",
      "+----+----+-------+---------+-----+--------------------+-------+----------+\n",
      "|  63|   1|   true|     true| true|             Shahran| 1.85E9|  61666.67|\n",
      "|  60|   1|   true|     true| true|             Shahran| 1.85E9|  61666.67|\n",
      "|  79|   2|   true|     true| true|              Pardis|  5.5E8|  18333.33|\n",
      "|  95|   2|   true|     true| true|       Shahrake Qods|9.025E8|  30083.33|\n",
      "| 123|   2|   true|     true| true|      Shahrake Gharb|  7.0E9| 233333.33|\n",
      "|  70|   2|   true|     true|false|North Program Org...| 2.05E9|  68333.33|\n",
      "|  87|   2|   true|     true| true|              Pardis|  6.0E8|   20000.0|\n",
      "|  59|   1|   true|     true| true|             Shahran| 2.15E9|  71666.67|\n",
      "|  54|   2|   true|     true|false|            Andisheh| 4.93E8|  16433.33|\n",
      "|  71|   1|   true|     true| true|West Ferdows Boul...| 2.37E9|   79000.0|\n",
      "|  68|   2|   true|     true| true|West Ferdows Boul...| 2.45E9|  81666.67|\n",
      "|  64|   1|   true|     true| true|              Narmak|  2.1E9|   70000.0|\n",
      "|  54|   1|  false|     true| true|              Narmak| 1.69E9|  56333.33|\n",
      "| 136|   3|   true|     true| true|         Saadat Abad| 1.1E10| 366666.67|\n",
      "|  95|   2|   true|     true| true|               Zafar|  5.0E9| 166666.67|\n",
      "|  63|   1|  false|     true|false|          Islamshahr|  5.7E8|   19000.0|\n",
      "| 155|   3|   true|     true| true|              Narmak|  6.7E9| 223333.33|\n",
      "|  64|   2|  false|     true|false|             Pirouzi| 1.45E9|  48333.33|\n",
      "| 140|   3|   true|     true| true|West Ferdows Boul...|  6.4E9| 213333.33|\n",
      "|  42|   1|  false|     true|false|             Pirouzi| 1.39E9|  46333.33|\n",
      "+----+----+-------+---------+-----+--------------------+-------+----------+\n",
      "only showing top 20 rows\n",
      "\n"
     ]
    }
   ],
   "source": [
    "duplicateDF.withColumnRenamed('elevator','lift').show()"
   ]
  },
  {
   "cell_type": "code",
   "execution_count": 46,
   "metadata": {},
   "outputs": [
    {
     "name": "stdout",
     "output_type": "stream",
     "text": [
      "+----+----+-------+---------+--------+--------------------+-------+----------+\n",
      "|Area|Room|parking|Warehouse|Elevator|             Address|  Price|Price(USD)|\n",
      "+----+----+-------+---------+--------+--------------------+-------+----------+\n",
      "|  63|   1|   true|     true|    true|             Shahran| 1.85E9|  61666.67|\n",
      "|  60|   1|   true|     true|    true|             Shahran| 1.85E9|  61666.67|\n",
      "|  79|   2|   true|     true|    true|              Pardis|  5.5E8|  18333.33|\n",
      "|  95|   2|   true|     true|    true|       Shahrake Qods|9.025E8|  30083.33|\n",
      "| 123|   2|   true|     true|    true|      Shahrake Gharb|  7.0E9| 233333.33|\n",
      "|  70|   2|   true|     true|   false|North Program Org...| 2.05E9|  68333.33|\n",
      "|  87|   2|   true|     true|    true|              Pardis|  6.0E8|   20000.0|\n",
      "|  59|   1|   true|     true|    true|             Shahran| 2.15E9|  71666.67|\n",
      "|  54|   2|   true|     true|   false|            Andisheh| 4.93E8|  16433.33|\n",
      "|  71|   1|   true|     true|    true|West Ferdows Boul...| 2.37E9|   79000.0|\n",
      "|  68|   2|   true|     true|    true|West Ferdows Boul...| 2.45E9|  81666.67|\n",
      "|  64|   1|   true|     true|    true|              Narmak|  2.1E9|   70000.0|\n",
      "|  54|   1|  false|     true|    true|              Narmak| 1.69E9|  56333.33|\n",
      "| 136|   3|   true|     true|    true|         Saadat Abad| 1.1E10| 366666.67|\n",
      "|  95|   2|   true|     true|    true|               Zafar|  5.0E9| 166666.67|\n",
      "|  63|   1|  false|     true|   false|          Islamshahr|  5.7E8|   19000.0|\n",
      "| 155|   3|   true|     true|    true|              Narmak|  6.7E9| 223333.33|\n",
      "|  64|   2|  false|     true|   false|             Pirouzi| 1.45E9|  48333.33|\n",
      "| 140|   3|   true|     true|    true|West Ferdows Boul...|  6.4E9| 213333.33|\n",
      "|  42|   1|  false|     true|   false|             Pirouzi| 1.39E9|  46333.33|\n",
      "+----+----+-------+---------+--------+--------------------+-------+----------+\n",
      "only showing top 20 rows\n",
      "\n"
     ]
    }
   ],
   "source": [
    "duplicateDF.show()"
   ]
  },
  {
   "cell_type": "code",
   "execution_count": 49,
   "metadata": {},
   "outputs": [
    {
     "data": {
      "text/plain": [
       "Row(Area='63', Room=1, parking=True, Warehouse=True, Elevator=True, Address='Shahran', Price=1850000000.0, Price(USD)=61666.67)"
      ]
     },
     "execution_count": 49,
     "metadata": {},
     "output_type": "execute_result"
    }
   ],
   "source": [
    "duplicateDF.collect()[0]"
   ]
  },
  {
   "cell_type": "code",
   "execution_count": 50,
   "metadata": {},
   "outputs": [
    {
     "data": {
      "text/plain": [
       "[Row(Area='68', Room=2, parking=True, Warehouse=True, Elevator=True, Address='West Ferdows Boulevard', Price=2450000000.0, Price(USD)=81666.67),\n",
       " Row(Area='64', Room=1, parking=True, Warehouse=True, Elevator=True, Address='Narmak', Price=2100000000.0, Price(USD)=70000.0),\n",
       " Row(Area='54', Room=1, parking=False, Warehouse=True, Elevator=True, Address='Narmak', Price=1690000000.0, Price(USD)=56333.33),\n",
       " Row(Area='136', Room=3, parking=True, Warehouse=True, Elevator=True, Address='Saadat Abad', Price=11000000000.0, Price(USD)=366666.67),\n",
       " Row(Area='95', Room=2, parking=True, Warehouse=True, Elevator=True, Address='Zafar', Price=5000000000.0, Price(USD)=166666.67),\n",
       " Row(Area='63', Room=1, parking=False, Warehouse=True, Elevator=False, Address='Islamshahr', Price=570000000.0, Price(USD)=19000.0),\n",
       " Row(Area='155', Room=3, parking=True, Warehouse=True, Elevator=True, Address='Narmak', Price=6700000000.0, Price(USD)=223333.33),\n",
       " Row(Area='64', Room=2, parking=False, Warehouse=True, Elevator=False, Address='Pirouzi', Price=1450000000.0, Price(USD)=48333.33),\n",
       " Row(Area='140', Room=3, parking=True, Warehouse=True, Elevator=True, Address='West Ferdows Boulevard', Price=6400000000.0, Price(USD)=213333.33),\n",
       " Row(Area='42', Room=1, parking=False, Warehouse=True, Elevator=False, Address='Pirouzi', Price=1390000000.0, Price(USD)=46333.33)]"
      ]
     },
     "execution_count": 50,
     "metadata": {},
     "output_type": "execute_result"
    }
   ],
   "source": [
    "duplicateDF.collect()[10:20]\n"
   ]
  },
  {
   "cell_type": "code",
   "execution_count": 51,
   "metadata": {},
   "outputs": [
    {
     "data": {
      "text/plain": [
       "[Row(Area='93', Room=2, parking=True, Warehouse=True, Elevator=True, Address='Shahrake Gharb', Price=7000000000.0, Price(USD)=233333.33),\n",
       " Row(Area='65', Room=1, parking=True, Warehouse=True, Elevator=True, Address='Shahran', Price=1880000000.0, Price(USD)=62666.67),\n",
       " Row(Area='105', Room=2, parking=True, Warehouse=True, Elevator=True, Address='Saadat Abad', Price=7150000000.0, Price(USD)=238333.33),\n",
       " Row(Area='77', Room=2, parking=True, Warehouse=True, Elevator=True, Address='Amirieh', Price=1771000000.0, Price(USD)=59033.33),\n",
       " Row(Area='110', Room=2, parking=True, Warehouse=True, Elevator=True, Address='Southern Janatabad', Price=630000000.0, Price(USD)=21000.0)]"
      ]
     },
     "execution_count": 51,
     "metadata": {},
     "output_type": "execute_result"
    }
   ],
   "source": [
    "duplicateDF.collect()[20:30:2]"
   ]
  },
  {
   "cell_type": "code",
   "execution_count": 64,
   "metadata": {},
   "outputs": [
    {
     "name": "stdout",
     "output_type": "stream",
     "text": [
      "+----+----+-------+---------+--------+-------+---------+----------+\n",
      "|Area|Room|parking|Warehouse|Elevator|Address|    Price|Price(USD)|\n",
      "+----+----+-------+---------+--------+-------+---------+----------+\n",
      "| 160|   1|  false|    false|   false|Qarchak|3600000.0|     120.0|\n",
      "|  75|   2|   true|     true|    true| Pardis|    6.0E7|    2000.0|\n",
      "|  83|   2|   true|     true|    true|  Ozgol|    5.5E7|   1833.33|\n",
      "+----+----+-------+---------+--------+-------+---------+----------+\n",
      "\n"
     ]
    }
   ],
   "source": [
    "\n",
    "duplicateDF.filter(duplicateDF.Price < 100000000).show()"
   ]
  },
  {
   "cell_type": "code",
   "execution_count": 65,
   "metadata": {},
   "outputs": [
    {
     "data": {
      "text/plain": [
       "3"
      ]
     },
     "execution_count": 65,
     "metadata": {},
     "output_type": "execute_result"
    }
   ],
   "source": [
    "duplicateDF.filter(duplicateDF.Price < 100000000).count()"
   ]
  },
  {
   "cell_type": "code",
   "execution_count": 69,
   "metadata": {},
   "outputs": [
    {
     "name": "stdout",
     "output_type": "stream",
     "text": [
      "+----+----+-------+---------+--------+--------------------+-------+----------+\n",
      "|Area|Room|parking|Warehouse|Elevator|             Address|  Price|Price(USD)|\n",
      "+----+----+-------+---------+--------+--------------------+-------+----------+\n",
      "|  95|   2|   true|     true|    true|               Zafar|  5.0E9| 166666.67|\n",
      "|  63|   1|  false|     true|   false|          Islamshahr|  5.7E8|   19000.0|\n",
      "|  42|   1|  false|     true|   false|             Pirouzi| 1.39E9|  46333.33|\n",
      "|  87|   2|   true|     true|    true|Shahrake Shahid B...|  2.5E9|  83333.33|\n",
      "|  99|   2|   true|     true|    true|           Moniriyeh|2.277E9|   75900.0|\n",
      "| 123|   2|   true|     true|    true|             Pirouzi|4.059E9|  135300.0|\n",
      "|  90|   2|  false|     true|   false|            Salsabil|  1.5E9|   50000.0|\n",
      "|  68|   2|   true|     true|    true|West Ferdows Boul...|  2.5E9|  83333.33|\n",
      "| 130|   3|   true|     true|   false|            ShahrAra|  5.0E9| 166666.67|\n",
      "|  62|   2|  false|    false|    true|         Ostad Moein| 1.45E9|  48333.33|\n",
      "| 215|   3|   true|     true|    true|            Pakdasht| 1.75E9|  58333.33|\n",
      "|  72|   2|   true|     true|   false|               Punak|  2.2E9|  73333.33|\n",
      "| 122|   2|   true|     true|    true|            Aqdasieh|  7.0E9| 233333.33|\n",
      "| 151|   3|   true|     true|    true|         Saadat Abad|1.02E10|  340000.0|\n",
      "|  88|   3|  false|    false|    true|              Parand|  5.6E8|  18666.67|\n",
      "| 151|   3|   true|     true|    true|         Saadat Abad|1.02E10|  340000.0|\n",
      "|  75|   2|   true|     true|    true|North Program Org...|  2.3E9|  76666.67|\n",
      "|  65|   2|   true|     true|    true|Southern Program ...| 2.27E9|  75666.67|\n",
      "|  94|   2|   true|     true|    true|              Parand|  5.8E8|  19333.33|\n",
      "|  67|   1|   true|     true|    true|               Punak|  2.3E9|  76666.67|\n",
      "+----+----+-------+---------+--------+--------------------+-------+----------+\n",
      "only showing top 20 rows\n",
      "\n"
     ]
    }
   ],
   "source": [
    "Randomselection = duplicateDF.sample(withReplacement=False, fraction= 0.2, seed = None)\n",
    "Randomselection.show()"
   ]
  },
  {
   "cell_type": "code",
   "execution_count": null,
   "metadata": {},
   "outputs": [
    {
     "name": "stdout",
     "output_type": "stream",
     "text": [
      "Total count\n",
      "Random selection count\n"
     ]
    },
    {
     "data": {
      "text/plain": [
       "670"
      ]
     },
     "execution_count": 73,
     "metadata": {},
     "output_type": "execute_result"
    }
   ],
   "source": [
    "\n",
    "print(\"Random selection count\")\n",
    "Randomselection.count()"
   ]
  },
  {
   "cell_type": "code",
   "execution_count": 76,
   "metadata": {},
   "outputs": [
    {
     "name": "stdout",
     "output_type": "stream",
     "text": [
      "Total count\n"
     ]
    },
    {
     "data": {
      "text/plain": [
       "3479"
      ]
     },
     "execution_count": 76,
     "metadata": {},
     "output_type": "execute_result"
    }
   ],
   "source": [
    "print(\"Total count\")\n",
    "duplicateDF.count()"
   ]
  },
  {
   "cell_type": "code",
   "execution_count": null,
   "metadata": {},
   "outputs": [],
   "source": []
  },
  {
   "cell_type": "code",
   "execution_count": null,
   "metadata": {},
   "outputs": [],
   "source": []
  }
 ],
 "metadata": {
  "kernelspec": {
   "display_name": "pyspark_env",
   "language": "python",
   "name": "python3"
  },
  "language_info": {
   "codemirror_mode": {
    "name": "ipython",
    "version": 3
   },
   "file_extension": ".py",
   "mimetype": "text/x-python",
   "name": "python",
   "nbconvert_exporter": "python",
   "pygments_lexer": "ipython3",
   "version": "3.9.20"
  }
 },
 "nbformat": 4,
 "nbformat_minor": 2
}
