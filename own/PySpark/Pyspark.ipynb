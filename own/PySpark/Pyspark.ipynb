{
 "cells": [
  {
   "cell_type": "code",
   "execution_count": 1,
   "metadata": {},
   "outputs": [
    {
     "name": "stdout",
     "output_type": "stream",
     "text": [
      "Hello world\n"
     ]
    }
   ],
   "source": [
    "print(\"Hello world\")"
   ]
  },
  {
   "cell_type": "code",
   "execution_count": 2,
   "metadata": {},
   "outputs": [
    {
     "name": "stdout",
     "output_type": "stream",
     "text": [
      "Requirement already satisfied: pyspark in c:\\users\\manve\\anaconda3\\envs\\pyspark_env\\lib\\site-packages (3.5.3)\n",
      "Requirement already satisfied: py4j==0.10.9.7 in c:\\users\\manve\\anaconda3\\envs\\pyspark_env\\lib\\site-packages (from pyspark) (0.10.9.7)\n",
      "Note: you may need to restart the kernel to use updated packages.\n",
      "Requirement already satisfied: pandas in c:\\users\\manve\\anaconda3\\envs\\pyspark_env\\lib\\site-packages (2.2.3)\n",
      "Requirement already satisfied: numpy>=1.22.4 in c:\\users\\manve\\anaconda3\\envs\\pyspark_env\\lib\\site-packages (from pandas) (2.0.2)\n",
      "Requirement already satisfied: python-dateutil>=2.8.2 in c:\\users\\manve\\anaconda3\\envs\\pyspark_env\\lib\\site-packages (from pandas) (2.9.0.post0)\n",
      "Requirement already satisfied: pytz>=2020.1 in c:\\users\\manve\\anaconda3\\envs\\pyspark_env\\lib\\site-packages (from pandas) (2024.2)\n",
      "Requirement already satisfied: tzdata>=2022.7 in c:\\users\\manve\\anaconda3\\envs\\pyspark_env\\lib\\site-packages (from pandas) (2024.2)\n",
      "Requirement already satisfied: six>=1.5 in c:\\users\\manve\\anaconda3\\envs\\pyspark_env\\lib\\site-packages (from python-dateutil>=2.8.2->pandas) (1.17.0)\n",
      "Note: you may need to restart the kernel to use updated packages.\n"
     ]
    }
   ],
   "source": [
    "%pip install pyspark\n",
    "%pip install pandas"
   ]
  },
  {
   "cell_type": "code",
   "execution_count": 3,
   "metadata": {},
   "outputs": [],
   "source": [
    "import pyspark"
   ]
  },
  {
   "cell_type": "code",
   "execution_count": 4,
   "metadata": {},
   "outputs": [
    {
     "name": "stdout",
     "output_type": "stream",
     "text": [
      "   rollno     Name  Age\n",
      "0       1   Anvesh   22\n",
      "1       2   Bunny    21\n",
      "2       3    Surya   23\n",
      "3       4   Nikhil   25\n",
      "4       5   Karthk   23\n",
      "5       6  Dheeraj   22\n"
     ]
    },
    {
     "data": {
      "text/plain": [
       "pandas.core.frame.DataFrame"
      ]
     },
     "execution_count": 4,
     "metadata": {},
     "output_type": "execute_result"
    }
   ],
   "source": [
    "import pandas as pd\n",
    "df = pd.read_csv(\"Students.csv\")\n",
    "print(df)\n",
    "type(df)"
   ]
  },
  {
   "cell_type": "code",
   "execution_count": 5,
   "metadata": {},
   "outputs": [],
   "source": [
    "from pyspark.sql import SparkSession"
   ]
  },
  {
   "cell_type": "code",
   "execution_count": 6,
   "metadata": {},
   "outputs": [],
   "source": [
    "spark = SparkSession.builder.appName(\"students\").getOrCreate()"
   ]
  },
  {
   "cell_type": "code",
   "execution_count": 7,
   "metadata": {},
   "outputs": [
    {
     "data": {
      "text/html": [
       "\n",
       "            <div>\n",
       "                <p><b>SparkSession - in-memory</b></p>\n",
       "                \n",
       "        <div>\n",
       "            <p><b>SparkContext</b></p>\n",
       "\n",
       "            <p><a href=\"http://Anvesh:4040\">Spark UI</a></p>\n",
       "\n",
       "            <dl>\n",
       "              <dt>Version</dt>\n",
       "                <dd><code>v3.5.3</code></dd>\n",
       "              <dt>Master</dt>\n",
       "                <dd><code>local[*]</code></dd>\n",
       "              <dt>AppName</dt>\n",
       "                <dd><code>students</code></dd>\n",
       "            </dl>\n",
       "        </div>\n",
       "        \n",
       "            </div>\n",
       "        "
      ],
      "text/plain": [
       "<pyspark.sql.session.SparkSession at 0x27bd5110fd0>"
      ]
     },
     "execution_count": 7,
     "metadata": {},
     "output_type": "execute_result"
    }
   ],
   "source": [
    "spark"
   ]
  },
  {
   "cell_type": "code",
   "execution_count": 8,
   "metadata": {},
   "outputs": [
    {
     "name": "stdout",
     "output_type": "stream",
     "text": [
      "+------+-------+---+\n",
      "|   _c0|    _c1|_c2|\n",
      "+------+-------+---+\n",
      "|rollno|   Name|Age|\n",
      "|     1| Anvesh| 22|\n",
      "|     2| Bunny | 21|\n",
      "|     3|  Surya| 23|\n",
      "|     4| Nikhil| 25|\n",
      "|     5| Karthk| 23|\n",
      "|     6|Dheeraj| 22|\n",
      "+------+-------+---+\n",
      "\n"
     ]
    }
   ],
   "source": [
    "dfSpark = spark.read.csv('Students.csv')\n",
    "dfSpark.show()"
   ]
  },
  {
   "cell_type": "code",
   "execution_count": 9,
   "metadata": {},
   "outputs": [
    {
     "name": "stdout",
     "output_type": "stream",
     "text": [
      "+------+-------+---+\n",
      "|rollno|   Name|Age|\n",
      "+------+-------+---+\n",
      "|     1| Anvesh| 22|\n",
      "|     2| Bunny | 21|\n",
      "|     3|  Surya| 23|\n",
      "|     4| Nikhil| 25|\n",
      "|     5| Karthk| 23|\n",
      "|     6|Dheeraj| 22|\n",
      "+------+-------+---+\n",
      "\n"
     ]
    },
    {
     "data": {
      "text/plain": [
       "pyspark.sql.dataframe.DataFrame"
      ]
     },
     "execution_count": 9,
     "metadata": {},
     "output_type": "execute_result"
    }
   ],
   "source": [
    "dfSpark = spark.read.option('header','true').csv('Students.csv')\n",
    "dfSpark.show()\n",
    "type(dfSpark)"
   ]
  },
  {
   "cell_type": "code",
   "execution_count": 10,
   "metadata": {},
   "outputs": [
    {
     "data": {
      "text/plain": [
       "Row(rollno='1', Name='Anvesh', Age='22')"
      ]
     },
     "execution_count": 10,
     "metadata": {},
     "output_type": "execute_result"
    }
   ],
   "source": [
    "dfSpark.head()"
   ]
  },
  {
   "cell_type": "code",
   "execution_count": 11,
   "metadata": {},
   "outputs": [
    {
     "name": "stdout",
     "output_type": "stream",
     "text": [
      "root\n",
      " |-- rollno: string (nullable = true)\n",
      " |-- Name: string (nullable = true)\n",
      " |-- Age: string (nullable = true)\n",
      "\n"
     ]
    }
   ],
   "source": [
    "dfSpark.printSchema()"
   ]
  },
  {
   "cell_type": "markdown",
   "metadata": {},
   "source": [
    "## Section 2"
   ]
  },
  {
   "cell_type": "code",
   "execution_count": 12,
   "metadata": {},
   "outputs": [],
   "source": [
    "from pyspark.sql import  SparkSession"
   ]
  },
  {
   "cell_type": "code",
   "execution_count": 13,
   "metadata": {},
   "outputs": [],
   "source": [
    "spark = SparkSession.builder.appName('DataFrame').getOrCreate()"
   ]
  },
  {
   "cell_type": "code",
   "execution_count": 14,
   "metadata": {},
   "outputs": [
    {
     "data": {
      "text/html": [
       "\n",
       "            <div>\n",
       "                <p><b>SparkSession - in-memory</b></p>\n",
       "                \n",
       "        <div>\n",
       "            <p><b>SparkContext</b></p>\n",
       "\n",
       "            <p><a href=\"http://Anvesh:4040\">Spark UI</a></p>\n",
       "\n",
       "            <dl>\n",
       "              <dt>Version</dt>\n",
       "                <dd><code>v3.5.3</code></dd>\n",
       "              <dt>Master</dt>\n",
       "                <dd><code>local[*]</code></dd>\n",
       "              <dt>AppName</dt>\n",
       "                <dd><code>students</code></dd>\n",
       "            </dl>\n",
       "        </div>\n",
       "        \n",
       "            </div>\n",
       "        "
      ],
      "text/plain": [
       "<pyspark.sql.session.SparkSession at 0x27bd5110fd0>"
      ]
     },
     "execution_count": 14,
     "metadata": {},
     "output_type": "execute_result"
    }
   ],
   "source": [
    "spark"
   ]
  },
  {
   "cell_type": "markdown",
   "metadata": {},
   "source": [
    "### read dataset\n",
    "by default all the dataset values are string \n",
    "by using inferSchema = True it will show the true data type"
   ]
  },
  {
   "cell_type": "code",
   "execution_count": 15,
   "metadata": {},
   "outputs": [],
   "source": [
    "df_pyspark = spark.read.option('header','true').csv('Students.csv',inferSchema=True)"
   ]
  },
  {
   "cell_type": "markdown",
   "metadata": {},
   "source": [
    "### check the shcema"
   ]
  },
  {
   "cell_type": "code",
   "execution_count": 16,
   "metadata": {},
   "outputs": [
    {
     "name": "stdout",
     "output_type": "stream",
     "text": [
      "root\n",
      " |-- rollno: integer (nullable = true)\n",
      " |-- Name: string (nullable = true)\n",
      " |-- Age: integer (nullable = true)\n",
      "\n"
     ]
    }
   ],
   "source": [
    "df_pyspark.printSchema()"
   ]
  },
  {
   "cell_type": "markdown",
   "metadata": {},
   "source": [
    "another way"
   ]
  },
  {
   "cell_type": "code",
   "execution_count": 17,
   "metadata": {},
   "outputs": [],
   "source": [
    "df_pyspark = spark.read.csv('Students.csv',header=True,inferSchema=True)"
   ]
  },
  {
   "cell_type": "code",
   "execution_count": 18,
   "metadata": {},
   "outputs": [
    {
     "name": "stdout",
     "output_type": "stream",
     "text": [
      "root\n",
      " |-- rollno: integer (nullable = true)\n",
      " |-- Name: string (nullable = true)\n",
      " |-- Age: integer (nullable = true)\n",
      "\n"
     ]
    }
   ],
   "source": [
    "df_pyspark.printSchema()"
   ]
  },
  {
   "cell_type": "markdown",
   "metadata": {},
   "source": [
    "## selecting coloums and indexing"
   ]
  },
  {
   "cell_type": "code",
   "execution_count": 19,
   "metadata": {},
   "outputs": [
    {
     "data": {
      "text/plain": [
       "pyspark.sql.dataframe.DataFrame"
      ]
     },
     "execution_count": 19,
     "metadata": {},
     "output_type": "execute_result"
    }
   ],
   "source": [
    "type(df_pyspark)"
   ]
  },
  {
   "cell_type": "markdown",
   "metadata": {},
   "source": [
    "it will return list of records"
   ]
  },
  {
   "cell_type": "code",
   "execution_count": 20,
   "metadata": {},
   "outputs": [
    {
     "data": {
      "text/plain": [
       "[Row(rollno=1, Name='Anvesh', Age=22),\n",
       " Row(rollno=2, Name='Bunny ', Age=21),\n",
       " Row(rollno=3, Name='Surya', Age=23)]"
      ]
     },
     "execution_count": 20,
     "metadata": {},
     "output_type": "execute_result"
    }
   ],
   "source": [
    "df_pyspark.head(3)"
   ]
  },
  {
   "cell_type": "markdown",
   "metadata": {},
   "source": [
    "select a colums"
   ]
  },
  {
   "cell_type": "code",
   "execution_count": 21,
   "metadata": {},
   "outputs": [
    {
     "name": "stdout",
     "output_type": "stream",
     "text": [
      "+------+-------+---+\n",
      "|rollno|   Name|Age|\n",
      "+------+-------+---+\n",
      "|     1| Anvesh| 22|\n",
      "|     2| Bunny | 21|\n",
      "|     3|  Surya| 23|\n",
      "|     4| Nikhil| 25|\n",
      "|     5| Karthk| 23|\n",
      "|     6|Dheeraj| 22|\n",
      "+------+-------+---+\n",
      "\n"
     ]
    }
   ],
   "source": [
    "df_pyspark.show()"
   ]
  },
  {
   "cell_type": "code",
   "execution_count": 22,
   "metadata": {},
   "outputs": [
    {
     "name": "stdout",
     "output_type": "stream",
     "text": [
      "+-------+\n",
      "|   Name|\n",
      "+-------+\n",
      "| Anvesh|\n",
      "| Bunny |\n",
      "|  Surya|\n",
      "| Nikhil|\n",
      "| Karthk|\n",
      "|Dheeraj|\n",
      "+-------+\n",
      "\n"
     ]
    }
   ],
   "source": [
    "df_pyspark.select('Name').show()"
   ]
  },
  {
   "cell_type": "code",
   "execution_count": 23,
   "metadata": {},
   "outputs": [
    {
     "name": "stdout",
     "output_type": "stream",
     "text": [
      "+-------+---+\n",
      "|   Name|age|\n",
      "+-------+---+\n",
      "| Anvesh| 22|\n",
      "| Bunny | 21|\n",
      "|  Surya| 23|\n",
      "| Nikhil| 25|\n",
      "| Karthk| 23|\n",
      "|Dheeraj| 22|\n",
      "+-------+---+\n",
      "\n"
     ]
    }
   ],
   "source": [
    "df_pyspark.select(['Name','age']).show()"
   ]
  },
  {
   "cell_type": "markdown",
   "metadata": {},
   "source": [
    "to check data types of fields"
   ]
  },
  {
   "cell_type": "code",
   "execution_count": 24,
   "metadata": {},
   "outputs": [
    {
     "data": {
      "text/plain": [
       "[('rollno', 'int'), ('Name', 'string'), ('Age', 'int')]"
      ]
     },
     "execution_count": 24,
     "metadata": {},
     "output_type": "execute_result"
    }
   ],
   "source": [
    "df_pyspark.dtypes"
   ]
  },
  {
   "cell_type": "code",
   "execution_count": 25,
   "metadata": {},
   "outputs": [
    {
     "data": {
      "text/plain": [
       "DataFrame[summary: string, rollno: string, Name: string, Age: string]"
      ]
     },
     "execution_count": 25,
     "metadata": {},
     "output_type": "execute_result"
    }
   ],
   "source": [
    "df_pyspark.describe()"
   ]
  },
  {
   "cell_type": "code",
   "execution_count": 26,
   "metadata": {},
   "outputs": [
    {
     "name": "stdout",
     "output_type": "stream",
     "text": [
      "+-------+------------------+------+------------------+\n",
      "|summary|            rollno|  Name|               Age|\n",
      "+-------+------------------+------+------------------+\n",
      "|  count|                 6|     6|                 6|\n",
      "|   mean|               3.5|  NULL|22.666666666666668|\n",
      "| stddev|1.8708286933869707|  NULL|1.3662601021279466|\n",
      "|    min|                 1|Anvesh|                21|\n",
      "|    max|                 6| Surya|                25|\n",
      "+-------+------------------+------+------------------+\n",
      "\n"
     ]
    }
   ],
   "source": [
    "df_pyspark.describe().show()"
   ]
  },
  {
   "cell_type": "markdown",
   "metadata": {},
   "source": [
    "## Add coloums in dataframes"
   ]
  },
  {
   "cell_type": "code",
   "execution_count": 27,
   "metadata": {},
   "outputs": [],
   "source": [
    "newDf = df_pyspark.withColumn('age after 2 years',df_pyspark['age']+2)"
   ]
  },
  {
   "cell_type": "code",
   "execution_count": 28,
   "metadata": {},
   "outputs": [
    {
     "name": "stdout",
     "output_type": "stream",
     "text": [
      "+------+-------+---+-----------------+\n",
      "|rollno|   Name|Age|age after 2 years|\n",
      "+------+-------+---+-----------------+\n",
      "|     1| Anvesh| 22|               24|\n",
      "|     2| Bunny | 21|               23|\n",
      "|     3|  Surya| 23|               25|\n",
      "|     4| Nikhil| 25|               27|\n",
      "|     5| Karthk| 23|               25|\n",
      "|     6|Dheeraj| 22|               24|\n",
      "+------+-------+---+-----------------+\n",
      "\n"
     ]
    }
   ],
   "source": [
    "newDf.show()"
   ]
  },
  {
   "cell_type": "markdown",
   "metadata": {},
   "source": [
    "## Drop coloum"
   ]
  },
  {
   "cell_type": "code",
   "execution_count": 29,
   "metadata": {},
   "outputs": [],
   "source": [
    "newDf = newDf.drop(\"age after 2 years\")"
   ]
  },
  {
   "cell_type": "code",
   "execution_count": 30,
   "metadata": {},
   "outputs": [
    {
     "name": "stdout",
     "output_type": "stream",
     "text": [
      "+------+-------+---+\n",
      "|rollno|   Name|Age|\n",
      "+------+-------+---+\n",
      "|     1| Anvesh| 22|\n",
      "|     2| Bunny | 21|\n",
      "|     3|  Surya| 23|\n",
      "|     4| Nikhil| 25|\n",
      "|     5| Karthk| 23|\n",
      "|     6|Dheeraj| 22|\n",
      "+------+-------+---+\n",
      "\n"
     ]
    }
   ],
   "source": [
    "newDf.show()"
   ]
  },
  {
   "cell_type": "markdown",
   "metadata": {},
   "source": [
    "## Rename coloum"
   ]
  },
  {
   "cell_type": "code",
   "execution_count": 31,
   "metadata": {},
   "outputs": [
    {
     "name": "stdout",
     "output_type": "stream",
     "text": [
      "+------+--------+---+\n",
      "|rollno|New Name|Age|\n",
      "+------+--------+---+\n",
      "|     1|  Anvesh| 22|\n",
      "|     2|  Bunny | 21|\n",
      "|     3|   Surya| 23|\n",
      "|     4|  Nikhil| 25|\n",
      "|     5|  Karthk| 23|\n",
      "|     6| Dheeraj| 22|\n",
      "+------+--------+---+\n",
      "\n"
     ]
    }
   ],
   "source": [
    "df_pyspark.withColumnRenamed('Name','New Name').show()"
   ]
  },
  {
   "cell_type": "markdown",
   "metadata": {},
   "source": [
    "# Session 3"
   ]
  },
  {
   "cell_type": "code",
   "execution_count": 32,
   "metadata": {},
   "outputs": [],
   "source": [
    "from pyspark.sql import  SparkSession\n",
    "spark = SparkSession.builder.appName('session3').getOrCreate()"
   ]
  },
  {
   "cell_type": "code",
   "execution_count": 33,
   "metadata": {},
   "outputs": [
    {
     "name": "stdout",
     "output_type": "stream",
     "text": [
      "+---+-------+----+------+\n",
      "| id|   name| age|   sal|\n",
      "+---+-------+----+------+\n",
      "|  1| Anvesh|  22| 32113|\n",
      "|  2|  Surya|NULL|223212|\n",
      "|  3| nikhil|  25|234222|\n",
      "|  4|dheeraj|NULL| 12311|\n",
      "|  5|karthil|  23|  NULL|\n",
      "+---+-------+----+------+\n",
      "\n"
     ]
    }
   ],
   "source": [
    "df = spark.read.csv('Test3.csv',header=True,inferSchema=True)\n",
    "df.show()"
   ]
  },
  {
   "cell_type": "markdown",
   "metadata": {},
   "source": [
    "### drop coloum"
   ]
  },
  {
   "cell_type": "code",
   "execution_count": 34,
   "metadata": {},
   "outputs": [
    {
     "name": "stdout",
     "output_type": "stream",
     "text": [
      "+---+----+------+\n",
      "| id| age|   sal|\n",
      "+---+----+------+\n",
      "|  1|  22| 32113|\n",
      "|  2|NULL|223212|\n",
      "|  3|  25|234222|\n",
      "|  4|NULL| 12311|\n",
      "|  5|  23|  NULL|\n",
      "+---+----+------+\n",
      "\n"
     ]
    }
   ],
   "source": [
    "df.drop('name').show()"
   ]
  },
  {
   "cell_type": "markdown",
   "metadata": {},
   "source": [
    "### remove based on null values"
   ]
  },
  {
   "cell_type": "code",
   "execution_count": 35,
   "metadata": {},
   "outputs": [
    {
     "name": "stdout",
     "output_type": "stream",
     "text": [
      "+---+-------+----+------+\n",
      "| id|   name| age|   sal|\n",
      "+---+-------+----+------+\n",
      "|  1| Anvesh|  22| 32113|\n",
      "|  2|  Surya|NULL|223212|\n",
      "|  3| nikhil|  25|234222|\n",
      "|  4|dheeraj|NULL| 12311|\n",
      "|  5|karthil|  23|  NULL|\n",
      "+---+-------+----+------+\n",
      "\n"
     ]
    }
   ],
   "source": [
    "df.show()"
   ]
  },
  {
   "cell_type": "markdown",
   "metadata": {},
   "source": [
    "drop all null values"
   ]
  },
  {
   "cell_type": "code",
   "execution_count": 36,
   "metadata": {},
   "outputs": [
    {
     "name": "stdout",
     "output_type": "stream",
     "text": [
      "+---+------+---+------+\n",
      "| id|  name|age|   sal|\n",
      "+---+------+---+------+\n",
      "|  1|Anvesh| 22| 32113|\n",
      "|  3|nikhil| 25|234222|\n",
      "+---+------+---+------+\n",
      "\n"
     ]
    }
   ],
   "source": [
    "df.na.drop().show()"
   ]
  },
  {
   "cell_type": "markdown",
   "metadata": {},
   "source": [
    "any == how\n",
    "drop allwith null"
   ]
  },
  {
   "cell_type": "code",
   "execution_count": 37,
   "metadata": {},
   "outputs": [
    {
     "name": "stdout",
     "output_type": "stream",
     "text": [
      "+---+------+---+------+\n",
      "| id|  name|age|   sal|\n",
      "+---+------+---+------+\n",
      "|  1|Anvesh| 22| 32113|\n",
      "|  3|nikhil| 25|234222|\n",
      "+---+------+---+------+\n",
      "\n"
     ]
    }
   ],
   "source": [
    "df.na.drop(how='any').show()"
   ]
  },
  {
   "cell_type": "markdown",
   "metadata": {},
   "source": [
    "drop row with all null"
   ]
  },
  {
   "cell_type": "code",
   "execution_count": 38,
   "metadata": {},
   "outputs": [
    {
     "name": "stdout",
     "output_type": "stream",
     "text": [
      "+---+-------+----+------+\n",
      "| id|   name| age|   sal|\n",
      "+---+-------+----+------+\n",
      "|  1| Anvesh|  22| 32113|\n",
      "|  2|  Surya|NULL|223212|\n",
      "|  3| nikhil|  25|234222|\n",
      "|  4|dheeraj|NULL| 12311|\n",
      "|  5|karthil|  23|  NULL|\n",
      "+---+-------+----+------+\n",
      "\n"
     ]
    }
   ],
   "source": [
    "df.na.drop(how='all').show()"
   ]
  },
  {
   "cell_type": "markdown",
   "metadata": {},
   "source": [
    "## threshold\n",
    "atleast 2 not null values if thresh = 2"
   ]
  },
  {
   "cell_type": "code",
   "execution_count": 39,
   "metadata": {},
   "outputs": [
    {
     "name": "stdout",
     "output_type": "stream",
     "text": [
      "+---+-------+----+------+\n",
      "| id|   name| age|   sal|\n",
      "+---+-------+----+------+\n",
      "|  1| Anvesh|  22| 32113|\n",
      "|  2|  Surya|NULL|223212|\n",
      "|  3| nikhil|  25|234222|\n",
      "|  4|dheeraj|NULL| 12311|\n",
      "|  5|karthil|  23|  NULL|\n",
      "+---+-------+----+------+\n",
      "\n"
     ]
    }
   ],
   "source": [
    "df.na.drop(how='any',thresh=3).show()"
   ]
  },
  {
   "cell_type": "markdown",
   "metadata": {},
   "source": [
    "## subset\n",
    "subset is used to specify coloum to remove null"
   ]
  },
  {
   "cell_type": "code",
   "execution_count": 40,
   "metadata": {},
   "outputs": [
    {
     "name": "stdout",
     "output_type": "stream",
     "text": [
      "+---+-------+---+------+\n",
      "| id|   name|age|   sal|\n",
      "+---+-------+---+------+\n",
      "|  1| Anvesh| 22| 32113|\n",
      "|  3| nikhil| 25|234222|\n",
      "|  5|karthil| 23|  NULL|\n",
      "+---+-------+---+------+\n",
      "\n"
     ]
    }
   ],
   "source": [
    "df.na.drop(how='any',subset=['age']).show()"
   ]
  },
  {
   "cell_type": "markdown",
   "metadata": {},
   "source": [
    "# filling the missing values"
   ]
  },
  {
   "cell_type": "code",
   "execution_count": 41,
   "metadata": {},
   "outputs": [
    {
     "name": "stdout",
     "output_type": "stream",
     "text": [
      "+---+-------+---+------+\n",
      "| id|   name|age|   sal|\n",
      "+---+-------+---+------+\n",
      "|  1| Anvesh| 22| 32113|\n",
      "|  2|  Surya|  0|223212|\n",
      "|  3| nikhil| 25|234222|\n",
      "|  4|dheeraj|  0| 12311|\n",
      "|  5|karthil| 23|     0|\n",
      "+---+-------+---+------+\n",
      "\n"
     ]
    }
   ],
   "source": [
    "df.na.fill({'name': 'MissingValue', 'age': 0, 'sal': 0}).show()"
   ]
  },
  {
   "cell_type": "markdown",
   "metadata": {},
   "source": [
    "### mean or mode or median"
   ]
  },
  {
   "cell_type": "code",
   "execution_count": 42,
   "metadata": {},
   "outputs": [
    {
     "name": "stdout",
     "output_type": "stream",
     "text": [
      "+---+-------+----+------+\n",
      "| id|   name| age|   sal|\n",
      "+---+-------+----+------+\n",
      "|  1| Anvesh|  22| 32113|\n",
      "|  2|  Surya|NULL|223212|\n",
      "|  3| nikhil|  25|234222|\n",
      "|  4|dheeraj|NULL| 12311|\n",
      "|  5|karthil|  23|  NULL|\n",
      "+---+-------+----+------+\n",
      "\n"
     ]
    }
   ],
   "source": [
    "df.show()"
   ]
  },
  {
   "cell_type": "code",
   "execution_count": 43,
   "metadata": {},
   "outputs": [],
   "source": [
    "from pyspark.ml.feature import Imputer\n",
    "\n",
    "imputer = Imputer(\n",
    "    inputCols = ['age','sal'],\n",
    "    outputCols = [\"{}_imputed\".format(c) for c in ['age','sal']]\n",
    ").setStrategy('mean')"
   ]
  },
  {
   "cell_type": "code",
   "execution_count": 44,
   "metadata": {},
   "outputs": [
    {
     "name": "stdout",
     "output_type": "stream",
     "text": [
      "+---+-------+----+------+-----------+-----------+\n",
      "| id|   name| age|   sal|age_imputed|sal_imputed|\n",
      "+---+-------+----+------+-----------+-----------+\n",
      "|  1| Anvesh|  22| 32113|         22|      32113|\n",
      "|  2|  Surya|NULL|223212|         23|     223212|\n",
      "|  3| nikhil|  25|234222|         25|     234222|\n",
      "|  4|dheeraj|NULL| 12311|         23|      12311|\n",
      "|  5|karthil|  23|  NULL|         23|     125464|\n",
      "+---+-------+----+------+-----------+-----------+\n",
      "\n"
     ]
    }
   ],
   "source": [
    "imputer.fit(df).transform(df).show()"
   ]
  },
  {
   "cell_type": "markdown",
   "metadata": {},
   "source": [
    "# Session 4\n",
    "- filtering\n",
    "- & | ==\n",
    "- ~"
   ]
  },
  {
   "cell_type": "code",
   "execution_count": 45,
   "metadata": {},
   "outputs": [
    {
     "name": "stdout",
     "output_type": "stream",
     "text": [
      "+---+-------+----+------+\n",
      "| id|   name| age|   sal|\n",
      "+---+-------+----+------+\n",
      "|  1| Anvesh|  22| 32113|\n",
      "|  2|  Surya|NULL|223212|\n",
      "|  3| nikhil|  25|234222|\n",
      "|  4|dheeraj|NULL| 12311|\n",
      "|  5|karthil|  23|  NULL|\n",
      "+---+-------+----+------+\n",
      "\n"
     ]
    }
   ],
   "source": [
    "df.show()"
   ]
  },
  {
   "cell_type": "markdown",
   "metadata": {},
   "source": [
    "sal less than 25000\n"
   ]
  },
  {
   "cell_type": "code",
   "execution_count": 46,
   "metadata": {},
   "outputs": [
    {
     "name": "stdout",
     "output_type": "stream",
     "text": [
      "+---+-------+----+-----+\n",
      "| id|   name| age|  sal|\n",
      "+---+-------+----+-----+\n",
      "|  4|dheeraj|NULL|12311|\n",
      "+---+-------+----+-----+\n",
      "\n"
     ]
    }
   ],
   "source": [
    "df.filter(\"sal<=25000\").show()"
   ]
  },
  {
   "cell_type": "code",
   "execution_count": 47,
   "metadata": {},
   "outputs": [
    {
     "name": "stdout",
     "output_type": "stream",
     "text": [
      "+-------+----+\n",
      "|   name| age|\n",
      "+-------+----+\n",
      "|dheeraj|NULL|\n",
      "+-------+----+\n",
      "\n"
     ]
    }
   ],
   "source": [
    "df.filter(\"sal<=25000\").select(['name','age']).show()"
   ]
  },
  {
   "cell_type": "code",
   "execution_count": 48,
   "metadata": {},
   "outputs": [
    {
     "name": "stdout",
     "output_type": "stream",
     "text": [
      "+---+------+----+------+\n",
      "| id|  name| age|   sal|\n",
      "+---+------+----+------+\n",
      "|  1|Anvesh|  22| 32113|\n",
      "|  2| Surya|NULL|223212|\n",
      "|  3|nikhil|  25|234222|\n",
      "+---+------+----+------+\n",
      "\n"
     ]
    }
   ],
   "source": [
    "df.filter(df['sal']>25000).show()"
   ]
  },
  {
   "cell_type": "code",
   "execution_count": 49,
   "metadata": {},
   "outputs": [
    {
     "name": "stdout",
     "output_type": "stream",
     "text": [
      "+---+------+---+-----+\n",
      "| id|  name|age|  sal|\n",
      "+---+------+---+-----+\n",
      "|  1|Anvesh| 22|32113|\n",
      "+---+------+---+-----+\n",
      "\n"
     ]
    }
   ],
   "source": [
    "df.filter((df['sal'] > 25000) & (df['sal'] < 100000)).show()\n"
   ]
  },
  {
   "cell_type": "code",
   "execution_count": 50,
   "metadata": {},
   "outputs": [
    {
     "name": "stdout",
     "output_type": "stream",
     "text": [
      "+---+------+---+-----+\n",
      "| id|  name|age|  sal|\n",
      "+---+------+---+-----+\n",
      "|  1|Anvesh| 22|32113|\n",
      "+---+------+---+-----+\n",
      "\n"
     ]
    }
   ],
   "source": [
    "df.filter(df['sal'].between(25000, 100000)).show()\n"
   ]
  },
  {
   "cell_type": "code",
   "execution_count": 51,
   "metadata": {},
   "outputs": [
    {
     "name": "stdout",
     "output_type": "stream",
     "text": [
      "+---+------+----+------+\n",
      "| id|  name| age|   sal|\n",
      "+---+------+----+------+\n",
      "|  1|Anvesh|  22| 32113|\n",
      "|  2| Surya|NULL|223212|\n",
      "|  3|nikhil|  25|234222|\n",
      "+---+------+----+------+\n",
      "\n",
      "+---+-------+----+-----+\n",
      "| id|   name| age|  sal|\n",
      "+---+-------+----+-----+\n",
      "|  4|dheeraj|NULL|12311|\n",
      "+---+-------+----+-----+\n",
      "\n"
     ]
    }
   ],
   "source": [
    "df.filter(df['sal']>25000).show()\n",
    "df.filter(~(df['sal']>25000)).show()"
   ]
  },
  {
   "cell_type": "code",
   "execution_count": 52,
   "metadata": {},
   "outputs": [
    {
     "name": "stdout",
     "output_type": "stream",
     "text": [
      "+---+-------+----+------+\n",
      "| id|   name| age|   sal|\n",
      "+---+-------+----+------+\n",
      "|  1| Anvesh|  22| 32113|\n",
      "|  2|  Surya|NULL|223212|\n",
      "|  3| nikhil|  25|234222|\n",
      "|  4|dheeraj|NULL| 12311|\n",
      "|  5|karthil|  23|  NULL|\n",
      "+---+-------+----+------+\n",
      "\n"
     ]
    }
   ],
   "source": [
    "df.show()"
   ]
  },
  {
   "cell_type": "markdown",
   "metadata": {},
   "source": [
    "# Session 5\n",
    "\n",
    "Pyspark Aggregate and groupby functions"
   ]
  },
  {
   "cell_type": "code",
   "execution_count": 53,
   "metadata": {},
   "outputs": [],
   "source": [
    "from pyspark.sql import SparkSession"
   ]
  },
  {
   "cell_type": "code",
   "execution_count": 54,
   "metadata": {},
   "outputs": [],
   "source": [
    "spark = SparkSession.builder.appName('Agg').getOrCreate()"
   ]
  },
  {
   "cell_type": "code",
   "execution_count": 55,
   "metadata": {},
   "outputs": [
    {
     "data": {
      "text/html": [
       "\n",
       "            <div>\n",
       "                <p><b>SparkSession - in-memory</b></p>\n",
       "                \n",
       "        <div>\n",
       "            <p><b>SparkContext</b></p>\n",
       "\n",
       "            <p><a href=\"http://Anvesh:4040\">Spark UI</a></p>\n",
       "\n",
       "            <dl>\n",
       "              <dt>Version</dt>\n",
       "                <dd><code>v3.5.3</code></dd>\n",
       "              <dt>Master</dt>\n",
       "                <dd><code>local[*]</code></dd>\n",
       "              <dt>AppName</dt>\n",
       "                <dd><code>students</code></dd>\n",
       "            </dl>\n",
       "        </div>\n",
       "        \n",
       "            </div>\n",
       "        "
      ],
      "text/plain": [
       "<pyspark.sql.session.SparkSession at 0x27bd5110fd0>"
      ]
     },
     "execution_count": 55,
     "metadata": {},
     "output_type": "execute_result"
    }
   ],
   "source": [
    "spark"
   ]
  },
  {
   "cell_type": "code",
   "execution_count": 68,
   "metadata": {},
   "outputs": [],
   "source": [
    "df = spark.read.csv('Test4.csv',header=True,inferSchema=True)"
   ]
  },
  {
   "cell_type": "code",
   "execution_count": 69,
   "metadata": {},
   "outputs": [
    {
     "name": "stdout",
     "output_type": "stream",
     "text": [
      "+---+-------+---+-------+-----+\n",
      "| id|   name|age|    sal| dept|\n",
      "+---+-------+---+-------+-----+\n",
      "|  1| Anvesh| 22|  32113|  CSE|\n",
      "|  2|  Surya| 22| 223212|CIVIL|\n",
      "|  3| nikhil| 25| 234222|  CSE|\n",
      "|  4|dheeraj| 22|  12311|CIVIL|\n",
      "|  5|karthil| 23|6516516| MECH|\n",
      "+---+-------+---+-------+-----+\n",
      "\n"
     ]
    }
   ],
   "source": [
    "df.show()"
   ]
  },
  {
   "cell_type": "code",
   "execution_count": 70,
   "metadata": {},
   "outputs": [
    {
     "name": "stdout",
     "output_type": "stream",
     "text": [
      "root\n",
      " |-- id: integer (nullable = true)\n",
      " |-- name: string (nullable = true)\n",
      " |-- age: integer (nullable = true)\n",
      " |-- sal: integer (nullable = true)\n",
      " |-- dept: string (nullable = true)\n",
      "\n"
     ]
    }
   ],
   "source": [
    "df.printSchema()"
   ]
  },
  {
   "cell_type": "code",
   "execution_count": 71,
   "metadata": {},
   "outputs": [
    {
     "name": "stdout",
     "output_type": "stream",
     "text": [
      "+---+-------+--------+--------+\n",
      "|age|sum(id)|sum(age)|sum(sal)|\n",
      "+---+-------+--------+--------+\n",
      "| 22|      7|      66|  267636|\n",
      "| 23|      5|      23| 6516516|\n",
      "| 25|      3|      25|  234222|\n",
      "+---+-------+--------+--------+\n",
      "\n"
     ]
    }
   ],
   "source": [
    "# GroupBy\n",
    "df.groupBy('age').sum().show()"
   ]
  },
  {
   "cell_type": "code",
   "execution_count": 72,
   "metadata": {},
   "outputs": [
    {
     "name": "stdout",
     "output_type": "stream",
     "text": [
      "+-----+-------+--------+--------+\n",
      "| dept|sum(id)|sum(age)|sum(sal)|\n",
      "+-----+-------+--------+--------+\n",
      "|CIVIL|      6|      44|  235523|\n",
      "|  CSE|      4|      47|  266335|\n",
      "| MECH|      5|      23| 6516516|\n",
      "+-----+-------+--------+--------+\n",
      "\n"
     ]
    }
   ],
   "source": [
    "df.groupBy('dept').sum().show()"
   ]
  },
  {
   "cell_type": "code",
   "execution_count": 73,
   "metadata": {},
   "outputs": [
    {
     "name": "stdout",
     "output_type": "stream",
     "text": [
      "+-----+-----+\n",
      "| dept|count|\n",
      "+-----+-----+\n",
      "|CIVIL|    2|\n",
      "|  CSE|    2|\n",
      "| MECH|    1|\n",
      "+-----+-----+\n",
      "\n"
     ]
    }
   ],
   "source": [
    "df.groupBy('dept').count().show()"
   ]
  },
  {
   "cell_type": "code",
   "execution_count": 74,
   "metadata": {},
   "outputs": [
    {
     "name": "stdout",
     "output_type": "stream",
     "text": [
      "+-----+-------+--------+---------+\n",
      "| dept|avg(id)|avg(age)| avg(sal)|\n",
      "+-----+-------+--------+---------+\n",
      "|CIVIL|    3.0|    22.0| 117761.5|\n",
      "|  CSE|    2.0|    23.5| 133167.5|\n",
      "| MECH|    5.0|    23.0|6516516.0|\n",
      "+-----+-------+--------+---------+\n",
      "\n"
     ]
    }
   ],
   "source": [
    "df.groupBy('dept').mean().show()"
   ]
  },
  {
   "cell_type": "code",
   "execution_count": 75,
   "metadata": {},
   "outputs": [
    {
     "name": "stdout",
     "output_type": "stream",
     "text": [
      "+--------+\n",
      "|sum(sal)|\n",
      "+--------+\n",
      "| 7018374|\n",
      "+--------+\n",
      "\n"
     ]
    }
   ],
   "source": [
    "df.agg({'sal':'sum'}).show()"
   ]
  },
  {
   "cell_type": "code",
   "execution_count": 76,
   "metadata": {},
   "outputs": [
    {
     "name": "stdout",
     "output_type": "stream",
     "text": [
      "+-----+-------+--------+--------+\n",
      "| dept|max(id)|max(age)|max(sal)|\n",
      "+-----+-------+--------+--------+\n",
      "|CIVIL|      4|      22|  223212|\n",
      "|  CSE|      3|      25|  234222|\n",
      "| MECH|      5|      23| 6516516|\n",
      "+-----+-------+--------+--------+\n",
      "\n"
     ]
    }
   ],
   "source": [
    "df.groupBy('dept').max().show()"
   ]
  },
  {
   "cell_type": "code",
   "execution_count": 77,
   "metadata": {},
   "outputs": [
    {
     "name": "stdout",
     "output_type": "stream",
     "text": [
      "+-----+-------+--------+--------+\n",
      "| dept|min(id)|min(age)|min(sal)|\n",
      "+-----+-------+--------+--------+\n",
      "|CIVIL|      2|      22|   12311|\n",
      "|  CSE|      1|      22|   32113|\n",
      "| MECH|      5|      23| 6516516|\n",
      "+-----+-------+--------+--------+\n",
      "\n"
     ]
    }
   ],
   "source": [
    "df.groupBy('dept').min().show()"
   ]
  },
  {
   "cell_type": "code",
   "execution_count": 78,
   "metadata": {},
   "outputs": [
    {
     "name": "stdout",
     "output_type": "stream",
     "text": [
      "+-----+-------+--------+---------+\n",
      "| dept|avg(id)|avg(age)| avg(sal)|\n",
      "+-----+-------+--------+---------+\n",
      "|CIVIL|    3.0|    22.0| 117761.5|\n",
      "|  CSE|    2.0|    23.5| 133167.5|\n",
      "| MECH|    5.0|    23.0|6516516.0|\n",
      "+-----+-------+--------+---------+\n",
      "\n"
     ]
    }
   ],
   "source": [
    "df.groupBy('dept').avg().show()"
   ]
  },
  {
   "cell_type": "code",
   "execution_count": null,
   "metadata": {},
   "outputs": [],
   "source": []
  }
 ],
 "metadata": {
  "kernelspec": {
   "display_name": "Python (PySpark)",
   "language": "python",
   "name": "pyspark_env"
  },
  "language_info": {
   "codemirror_mode": {
    "name": "ipython",
    "version": 3
   },
   "file_extension": ".py",
   "mimetype": "text/x-python",
   "name": "python",
   "nbconvert_exporter": "python",
   "pygments_lexer": "ipython3",
   "version": "3.9.20"
  }
 },
 "nbformat": 4,
 "nbformat_minor": 4
}
